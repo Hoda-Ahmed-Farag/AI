{
 "cells": [
  {
   "cell_type": "code",
   "execution_count": null,
   "id": "b8386309-6453-43e3-a587-77a328376721",
   "metadata": {},
   "outputs": [],
   "source": [
    "#WAP to enter a number from user and print its absolute value."
   ]
  },
  {
   "cell_type": "code",
   "execution_count": 3,
   "id": "0d3f8e90-5bff-4e66-987e-493add638121",
   "metadata": {},
   "outputs": [
    {
     "name": "stdin",
     "output_type": "stream",
     "text": [
      "Enter your number:  -2.5\n"
     ]
    },
    {
     "name": "stdout",
     "output_type": "stream",
     "text": [
      "Absolute value 2.5\n"
     ]
    }
   ],
   "source": [
    "num = float(input(\"Enter your number: \"))\n",
    "\n",
    "if num < 0:\n",
    "    absolute_value = -num\n",
    "else:\n",
    "    absolute_value = num  \n",
    "\n",
    "print(\"Absolute value\", absolute_value)\n"
   ]
  },
  {
   "cell_type": "code",
   "execution_count": null,
   "id": "9b68bb93-869d-47ec-84da-06507cdcf8a6",
   "metadata": {},
   "outputs": [],
   "source": [
    "#WAP to enter a year from user and check if it is leap year or not."
   ]
  },
  {
   "cell_type": "code",
   "execution_count": 9,
   "id": "3dae3313-acc5-4788-b2c9-9fcb78d3dbe2",
   "metadata": {},
   "outputs": [
    {
     "name": "stdin",
     "output_type": "stream",
     "text": [
      "Enter your year 2021\n"
     ]
    },
    {
     "name": "stdout",
     "output_type": "stream",
     "text": [
      "2021 is not a leap year\n"
     ]
    }
   ],
   "source": [
    "year = int(input(\"Enter your year\"))\n",
    "\n",
    "if (year % 4 == 0 and year % 100 != 0) or (year % 400 == 0):\n",
    "    print(year, \"is a leap year\")\n",
    "else:\n",
    "    print(year, \"is not a leap year\")\n"
   ]
  },
  {
   "cell_type": "code",
   "execution_count": null,
   "id": "10bde290-c777-484c-862f-a0ddec394be6",
   "metadata": {},
   "outputs": [],
   "source": [
    "#WAP to enter the age of 3 person and print oldest and yougest among them."
   ]
  },
  {
   "cell_type": "code",
   "execution_count": 21,
   "id": "0c5d672b-927e-4cff-8821-23b76a4078bb",
   "metadata": {},
   "outputs": [
    {
     "name": "stdin",
     "output_type": "stream",
     "text": [
      "Enter age1:  154\n",
      "Enter age2:  84\n",
      "Enter age3:  48\n"
     ]
    },
    {
     "name": "stdout",
     "output_type": "stream",
     "text": [
      "The oldest person is: 154\n",
      "The youngest person is: 48\n"
     ]
    }
   ],
   "source": [
    "age1 = int(input(\"Enter age1: \"))\n",
    "age2 = int(input(\"Enter age2: \"))\n",
    "age3 = int(input(\"Enter age3: \"))\n",
    "\n",
    "# Finding the oldest person\n",
    "if age1 > age2 and age1 > age3:\n",
    "    oldest = age1\n",
    "elif age2 > age1 and age2 > age3:\n",
    "    oldest = age2\n",
    "else:\n",
    "    oldest = age3\n",
    "# Finding the youngest person\n",
    "if age1 < age2 and age1 < age3:\n",
    "    youngest = age1\n",
    "elif age2 < age1 and age2 < age3:\n",
    "    youngest = age2\n",
    "else:\n",
    "    youngest = age3\n",
    "\n",
    "print(\"The oldest person is:\", oldest)\n",
    "print(\"The youngest person is:\", youngest)"
   ]
  },
  {
   "cell_type": "code",
   "execution_count": null,
   "id": "a631a15b-4611-4b93-9780-323faacbe7a2",
   "metadata": {},
   "outputs": [],
   "source": [
    "# Write a program that asks the user to enter a series of numbers.\n",
    "# The program should ask for numbers until the user enters a negative number. \n",
    "# Once the user enters a negative number, the program should stop and print the sum of all the positive numbers entered"
   ]
  },
  {
   "cell_type": "code",
   "execution_count": 27,
   "id": "70958e8a-b610-4caa-8f17-987debd8d570",
   "metadata": {},
   "outputs": [
    {
     "name": "stdin",
     "output_type": "stream",
     "text": [
      "Enter your number 2\n",
      "Enter your number 8\n",
      "Enter your number 10\n",
      "Enter your number -8\n"
     ]
    },
    {
     "name": "stdout",
     "output_type": "stream",
     "text": [
      "The Sum =  20\n"
     ]
    }
   ],
   "source": [
    "i = 0\n",
    "sum = 0\n",
    "while i >= 0:\n",
    "    num = int(input(\"Enter your number\"))\n",
    "    if num < 0:\n",
    "        break\n",
    "    sum += num\n",
    "print(\"The Sum = \",sum)"
   ]
  },
  {
   "cell_type": "code",
   "execution_count": null,
   "id": "57272692-cd77-456c-9190-06379e7c081a",
   "metadata": {},
   "outputs": [],
   "source": [
    "# Write a program that asks the user to enter their name and age. \n",
    "# The program should check if the user's age is greater than or equal to 18.\n",
    "# If it is, the program should print a message saying they are eligible to vote.\n",
    "# Otherwise, the program should print a message saying they are not eligible to vote due to being underage."
   ]
  },
  {
   "cell_type": "code",
   "execution_count": 29,
   "id": "8b060e38-7858-44f4-b226-67126a4bcc89",
   "metadata": {},
   "outputs": [
    {
     "name": "stdin",
     "output_type": "stream",
     "text": [
      "Enter your name:  hoda\n",
      "Enter your age:  20\n"
     ]
    },
    {
     "name": "stdout",
     "output_type": "stream",
     "text": [
      "you are eligible to vote\n"
     ]
    }
   ],
   "source": [
    "name = input(\"Enter your name: \")\n",
    "age = int(input(\"Enter your age: \"))\n",
    "\n",
    "if age >= 18:\n",
    "    print(\"you are eligible to vote\")\n",
    "else:\n",
    "    print(\"you are not eligible to vote due to being underage.\")"
   ]
  },
  {
   "cell_type": "code",
   "execution_count": null,
   "id": "bb2bca76-843c-453e-9f8c-3bc1a82df015",
   "metadata": {},
   "outputs": [],
   "source": [
    "#Write a Python Program to Find the Factorial of a Number"
   ]
  },
  {
   "cell_type": "code",
   "execution_count": 31,
   "id": "1b899161-d32b-4914-9691-b46e4813845a",
   "metadata": {},
   "outputs": [
    {
     "name": "stdin",
     "output_type": "stream",
     "text": [
      "Enter a number:  5\n"
     ]
    },
    {
     "name": "stdout",
     "output_type": "stream",
     "text": [
      "The factorial of 5 is: 120\n"
     ]
    }
   ],
   "source": [
    "num = int(input(\"Enter a number: \"))\n",
    "\n",
    "if num < 0:\n",
    "    print(\"Factorial is not defined for negative numbers.\")\n",
    "else:\n",
    "    factorial = 1 \n",
    "    i = 1   \n",
    "\n",
    "    while i <= num:   \n",
    "        factorial *= i\n",
    "        i += 1\n",
    "\n",
    "    print(\"The factorial of\",num, \"is:\", factorial)"
   ]
  },
  {
   "cell_type": "code",
   "execution_count": null,
   "id": "bb0a2caf-0e05-4b67-a16d-2e8552910e9b",
   "metadata": {},
   "outputs": [],
   "source": []
  }
 ],
 "metadata": {
  "kernelspec": {
   "display_name": "Python 3 (ipykernel)",
   "language": "python",
   "name": "python3"
  },
  "language_info": {
   "codemirror_mode": {
    "name": "ipython",
    "version": 3
   },
   "file_extension": ".py",
   "mimetype": "text/x-python",
   "name": "python",
   "nbconvert_exporter": "python",
   "pygments_lexer": "ipython3",
   "version": "3.12.7"
  }
 },
 "nbformat": 4,
 "nbformat_minor": 5
}
