{
 "cells": [
  {
   "cell_type": "code",
   "execution_count": null,
   "id": "2afbf592-c8bc-457c-b844-bf1b0df980a0",
   "metadata": {},
   "outputs": [],
   "source": [
    "#1-Write a Python program that takes two numbers as user input and performs addition on them."
   ]
  },
  {
   "cell_type": "code",
   "execution_count": 5,
   "id": "7ee721e3-04d2-4516-8177-82cb627fcc36",
   "metadata": {},
   "outputs": [
    {
     "name": "stdin",
     "output_type": "stream",
     "text": [
      "Enter your number:  10\n",
      "Enter your number:  15\n"
     ]
    },
    {
     "name": "stdout",
     "output_type": "stream",
     "text": [
      "25\n"
     ]
    }
   ],
   "source": [
    "Number1 = int(input(\"Enter your number: \"))\n",
    "Number2 = int(input(\"Enter your number: \"))\n",
    "sum = Number1 + Number2\n",
    "print(sum)"
   ]
  },
  {
   "cell_type": "code",
   "execution_count": null,
   "id": "ab5c4fa4-e37c-414b-87aa-525888e2ef8b",
   "metadata": {},
   "outputs": [],
   "source": [
    "#2-Write a Python program that takes an integer as input and checks if it is even or odd.\n",
    "#Print \"Even\" if the number is divisible by 2, otherwise print \"Odd\"."
   ]
  },
  {
   "cell_type": "code",
   "execution_count": 11,
   "id": "872938a4-2263-487b-af13-7a40e0f394c0",
   "metadata": {},
   "outputs": [
    {
     "name": "stdin",
     "output_type": "stream",
     "text": [
      "Enter your number:  10\n"
     ]
    },
    {
     "name": "stdout",
     "output_type": "stream",
     "text": [
      "Even\n"
     ]
    }
   ],
   "source": [
    "Number = int(input(\"Enter your number: \"))\n",
    "if Number % 2 == 0:\n",
    "    print(\"Even\")\n",
    "else:\n",
    "    print(\"Odd\")"
   ]
  },
  {
   "cell_type": "code",
   "execution_count": null,
   "id": "6d648d0a-59e2-4bd6-92fc-3a9c7c734da0",
   "metadata": {},
   "outputs": [],
   "source": [
    "#3-Write a Python program that prints all the even numbers from 1 to 20 using a for loop"
   ]
  },
  {
   "cell_type": "code",
   "execution_count": 15,
   "id": "67149389-9306-4ec3-a3c0-b141524b7a2a",
   "metadata": {},
   "outputs": [
    {
     "name": "stdout",
     "output_type": "stream",
     "text": [
      "Odd\n",
      "Even\n",
      "Odd\n",
      "Even\n",
      "Odd\n",
      "Even\n",
      "Odd\n",
      "Even\n",
      "Odd\n",
      "Even\n",
      "Odd\n",
      "Even\n",
      "Odd\n",
      "Even\n",
      "Odd\n",
      "Even\n",
      "Odd\n",
      "Even\n",
      "Odd\n"
     ]
    }
   ],
   "source": [
    "for i in range(1,20):\n",
    "    if i % 2 == 0:\n",
    "        print(\"Even\")\n",
    "    else:\n",
    "        print(\"Odd\")"
   ]
  },
  {
   "cell_type": "code",
   "execution_count": null,
   "id": "c96bec51-a22b-4a88-973b-de473a6b3c79",
   "metadata": {},
   "outputs": [],
   "source": [
    "#4-Write a Python function that takes a string as input and counts the number of vowels (a, e, i, o, u) in the string.\n",
    "#The function should return the count"
   ]
  },
  {
   "cell_type": "code",
   "execution_count": 21,
   "id": "02ce9c86-8e10-4f97-ac14-b47eedb8e6e7",
   "metadata": {},
   "outputs": [
    {
     "name": "stdin",
     "output_type": "stream",
     "text": [
      "Enter your name:  Hooooodaaaa\n"
     ]
    },
    {
     "data": {
      "text/plain": [
       "9"
      ]
     },
     "execution_count": 21,
     "metadata": {},
     "output_type": "execute_result"
    }
   ],
   "source": [
    "def count_vowels(string):\n",
    "    vowels = \"aeiouAEIOU\"\n",
    "    count = 0\n",
    "    for i in string:\n",
    "        if i in vowels:\n",
    "            count += 1\n",
    "    return count\n",
    "Name = input(\"Enter your name: \")\n",
    "count_vowels(Name)\n",
    "    \n",
    "    "
   ]
  },
  {
   "cell_type": "code",
   "execution_count": null,
   "id": "a1f03fb6-06d3-40b2-8ac1-195d8ea03f28",
   "metadata": {},
   "outputs": [],
   "source": [
    "#5-Write a Python program that creates a list of numbers from 1 to 10. Use a loop to iterate over the list and print each number of power 2."
   ]
  },
  {
   "cell_type": "code",
   "execution_count": 25,
   "id": "dacfb409-bb2d-4c63-9a85-32e75e1a71ff",
   "metadata": {},
   "outputs": [
    {
     "name": "stdout",
     "output_type": "stream",
     "text": [
      "1 : 1\n",
      "2 : 4\n",
      "3 : 9\n",
      "4 : 16\n",
      "5 : 25\n",
      "6 : 36\n",
      "7 : 49\n",
      "8 : 64\n",
      "9 : 81\n",
      "10 : 100\n"
     ]
    }
   ],
   "source": [
    "l = [1,2,3,4,5,6,7,8,9,10]\n",
    "for i in l:\n",
    "    power = i**2\n",
    "    print(i,\":\",power)"
   ]
  },
  {
   "cell_type": "code",
   "execution_count": null,
   "id": "5a734d83-dda7-46be-b7d4-5b844bb2acf6",
   "metadata": {},
   "outputs": [],
   "source": [
    "#6-Write a Python program that calculates the average grade for a student based on their scores in different subjects.\n",
    "#The program should include the following steps:\n",
    "#1-Create variables to store the student's name, subject names, and corresponding scores. Initialize the variables with sample data.\n",
    "#2-Prompt the user to enter the student's name and assign it to the name variable.\n",
    "#3-Use a loop to prompt the user to enter the subject names and corresponding scores. Store the subject names in a list and the scores in another list.\n",
    "#4-After collecting the scores, calculate the average grade by summing up all the scores and dividing by the total number of subjects.\n",
    "#5-Check if the average grade is above a 70, print a congratulatory message. Otherwise, print an encouragement message."
   ]
  },
  {
   "cell_type": "code",
   "execution_count": 7,
   "id": "a450c042-71cd-4ddc-9b50-b41bfc4436c9",
   "metadata": {},
   "outputs": [
    {
     "name": "stdin",
     "output_type": "stream",
     "text": [
      "Enter the student's name:  Hoda\n",
      "Enter the number of subjects:  3\n",
      "Enter the name of subject 1:  math\n",
      "Enter the score for math:  10\n",
      "Enter the name of subject 2:  arabic\n",
      "Enter the score for arabic:  20\n",
      "Enter the name of subject 3:  english\n",
      "Enter the score for english:  30\n"
     ]
    },
    {
     "name": "stdout",
     "output_type": "stream",
     "text": [
      "Keep working hard! You can improve.\n"
     ]
    }
   ],
   "source": [
    "Student_Name = input(\"Enter the student's name: \")\n",
    "Subjects = []\n",
    "Scores = []\n",
    "\n",
    "Num_Subjects = int(input(\"Enter the number of subjects: \"))\n",
    "for i in range(Num_Subjects):\n",
    "    Subject = input(f\"Enter the name of subject {i + 1}: \")   \n",
    "    Score = float(input(f\"Enter the score for {Subject}: \"))\n",
    "    Subjects.append(Subject)\n",
    "    Scores.append(Score)\n",
    "average_grade = sum(Scores) / len(scores)    \n",
    "if average_grade > 70:\n",
    "    print(\"Congratulations! You passed with a good grade.\")\n",
    "else:\n",
    "    print(\"Keep working hard! You can improve.\")"
   ]
  },
  {
   "cell_type": "code",
   "execution_count": null,
   "id": "a99a4da2-9231-423a-b871-a87bea404bd4",
   "metadata": {},
   "outputs": [],
   "source": [
    "#7-Find Common Elements\n",
    "#Write a Python function that takes two lists as input and returns a new list containing the common elements present in both lists."
   ]
  },
  {
   "cell_type": "code",
   "execution_count": 26,
   "id": "6ece0474-10cb-4686-b3c2-c640d159517f",
   "metadata": {},
   "outputs": [
    {
     "name": "stdin",
     "output_type": "stream",
     "text": [
      "Enter the number of List1:  5\n",
      "Enter the number 1:  1\n",
      "Enter the number 2:  2\n",
      "Enter the number 3:  3\n",
      "Enter the number 4:  4\n",
      "Enter the number 5:  5\n",
      "Enter the number of List2:  5\n",
      "Enter the number 1:  1\n",
      "Enter the number 2:  2\n",
      "Enter the number 3:  6\n",
      "Enter the number 4:  4\n",
      "Enter the number 5:  8\n"
     ]
    },
    {
     "name": "stdout",
     "output_type": "stream",
     "text": [
      "[1, 2, 3, 4, 5] [1, 2, 6, 4, 8]\n",
      "[1, 2, 4]\n"
     ]
    }
   ],
   "source": [
    "List1 = []\n",
    "List2 = []\n",
    "Common_Elements = []\n",
    "Num_List1 = int(input(\"Enter the number of List1: \"))\n",
    "for i in range(Num_List1):\n",
    "    list1 = int(input(f\"Enter the number {i + 1}: \"))  \n",
    "    List1.append(list1)\n",
    "Num_List2 = int(input(\"Enter the number of List2: \"))\n",
    "for i in range(Num_List2):\n",
    "    list2 = int(input(f\"Enter the number {i + 1}: \"))\n",
    "    List2.append(list2)\n",
    "print(List1,List2)\n",
    "for element in List1:\n",
    "        if element in List2:\n",
    "            Common_Elements.append(element)\n",
    "print(Common_Elements)\n"
   ]
  },
  {
   "cell_type": "code",
   "execution_count": null,
   "id": "eb7b64dc-1ccc-46de-9dbe-1050b781cd54",
   "metadata": {},
   "outputs": [],
   "source": [
    "#8-Write a Python function that takes a list of numbers and an element to remove from the list."
   ]
  },
  {
   "cell_type": "code",
   "execution_count": 33,
   "id": "0bc2d390-8043-4c07-a3f5-1795f8be87f3",
   "metadata": {},
   "outputs": [
    {
     "name": "stdin",
     "output_type": "stream",
     "text": [
      "Enter the number of List1:  5\n",
      "Enter the number 1:  1\n",
      "Enter the number 2:  2\n",
      "Enter the number 3:  3\n",
      "Enter the number 4:  4\n",
      "Enter the number 5:  5\n",
      "Which item do you want to delete?  5\n"
     ]
    },
    {
     "name": "stdout",
     "output_type": "stream",
     "text": [
      "5 has been removed from the list.\n",
      "[1, 2, 3, 4]\n"
     ]
    }
   ],
   "source": [
    "List1 = []\n",
    "Num_List1 = int(input(\"Enter the number of List1: \"))\n",
    "for i in range(Num_List1):\n",
    "    list1 = int(input(f\"Enter the number {i + 1}: \"))  \n",
    "    List1.append(list1)\n",
    "item = int(input(\"Which item do you want to delete? \"))\n",
    "if item in List1:\n",
    "    List1.remove(item)  \n",
    "    print(f\"{item} has been removed from the list.\")\n",
    "else:\n",
    "    print(f\"{element} is not in the list.\")\n",
    "print(List1)"
   ]
  },
  {
   "cell_type": "code",
   "execution_count": null,
   "id": "d486742c-2ccb-4eeb-81b0-bd70aedd7809",
   "metadata": {},
   "outputs": [],
   "source": [
    "#9-Given 4 numbers A, B, C and D. Print the last 2 digits from their Multiplication."
   ]
  },
  {
   "cell_type": "code",
   "execution_count": 39,
   "id": "ba889d58-8251-4769-ae3e-ced253cf72c6",
   "metadata": {},
   "outputs": [
    {
     "name": "stdin",
     "output_type": "stream",
     "text": [
      "Enter your number1:  8\n",
      "Enter your number2:  4\n",
      "Enter your number3:  5\n",
      "Enter your number4:  7\n"
     ]
    },
    {
     "name": "stdout",
     "output_type": "stream",
     "text": [
      "1120\n",
      "11\n"
     ]
    }
   ],
   "source": [
    "Number1 = int(input(\"Enter your number1: \"))\n",
    "Number2 = int(input(\"Enter your number2: \"))\n",
    "Number3 = int(input(\"Enter your number3: \"))\n",
    "Number4 = int(input(\"Enter your number4: \"))\n",
    "Multiplication = Number1*Number2*Number3*Number4\n",
    "print(Multiplication)\n",
    "Multiplication = Multiplication//100\n",
    "print(Multiplication)"
   ]
  },
  {
   "cell_type": "code",
   "execution_count": null,
   "id": "2aeec942-ceaa-493a-866e-1f0c91d82a7f",
   "metadata": {},
   "outputs": [],
   "source": [
    "#10- Given a number X. Determine if the number is prime or not"
   ]
  },
  {
   "cell_type": "code",
   "execution_count": 53,
   "id": "a88d26e0-67c9-42d1-ae49-140432c2d39f",
   "metadata": {},
   "outputs": [
    {
     "name": "stdin",
     "output_type": "stream",
     "text": [
      "Enter your number:  3\n"
     ]
    },
    {
     "name": "stdout",
     "output_type": "stream",
     "text": [
      "3 is a prime number.\n"
     ]
    }
   ],
   "source": [
    "Number = int(input(\"Enter your number: \"))\n",
    "if Number <= 1:\n",
    "    print(f\"{Number} is not a prime number.\")\n",
    "elif Number == 2:\n",
    "    print(f\"{Number} is a prime number.\")\n",
    "elif Number % 2 == 0:\n",
    "    print(f\"{Number} is not a prime number.\")\n",
    "else:\n",
    "    for i in range(3, Number):\n",
    "        if Number % i == 0:\n",
    "            print(f\"{Number} is not a prime number.\")\n",
    "            break\n",
    "    else:\n",
    "        print(f\"{Number} is a prime number.\")"
   ]
  },
  {
   "cell_type": "code",
   "execution_count": null,
   "id": "4cb2afc3-d787-45da-a7f1-e3c8e8465439",
   "metadata": {},
   "outputs": [],
   "source": [
    "#11- Given a number N and a list A of N numbers. Determine if the number X exists in array A or not and print its position (0-index)."
   ]
  },
  {
   "cell_type": "code",
   "execution_count": 61,
   "id": "478bc694-98ec-4eae-8ffb-206159105ac4",
   "metadata": {},
   "outputs": [
    {
     "name": "stdin",
     "output_type": "stream",
     "text": [
      "Enter the number of List1:  5\n",
      "Enter the number 1:  1\n",
      "Enter the number 2:  7\n",
      "Enter the number 3:  8\n",
      "Enter the number 4:  6\n",
      "Enter the number 5:  5\n",
      "What item do you want?  8\n"
     ]
    },
    {
     "name": "stdout",
     "output_type": "stream",
     "text": [
      "2\n"
     ]
    }
   ],
   "source": [
    "List1 = []\n",
    "Num_List1 = int(input(\"Enter the number of List1: \"))\n",
    "for i in range(Num_List1):\n",
    "    list1 = int(input(f\"Enter the number {i + 1}: \"))  \n",
    "    List1.append(list1)\n",
    "item = int(input(\"What item do you want? \"))\n",
    "if item in List1:\n",
    "    print(List1.index(item))\n",
    "else:\n",
    "    print(\"Not found\")"
   ]
  },
  {
   "cell_type": "code",
   "execution_count": 63,
   "id": "0e67a77a-5aca-4b90-b7e2-f028302bbda6",
   "metadata": {},
   "outputs": [
    {
     "name": "stdin",
     "output_type": "stream",
     "text": [
      "Enter the number of List1:  5\n",
      "Enter the number 1:  1\n",
      "Enter the number 2:  4\n",
      "Enter the number 3:  5\n",
      "Enter the number 4:  1\n",
      "Enter the number 5:  1\n"
     ]
    },
    {
     "name": "stdout",
     "output_type": "stream",
     "text": [
      "The array is lucky.\n"
     ]
    }
   ],
   "source": [
    "List1 = []\n",
    "Num_List1 = int(input(\"Enter the number of List1: \"))\n",
    "for i in range(Num_List1):\n",
    "    num = int(input(f\"Enter the number {i + 1}: \"))  \n",
    "    List1.append(num)\n",
    "min = List1[0]\n",
    "for num in List1:\n",
    "    if num < min:\n",
    "        min = num\n",
    "min_count = 0\n",
    "for num in List1:\n",
    "    if num == min:\n",
    "        min_count += 1\n",
    "if min_count % 2 == 1:\n",
    "    print(\"The array is lucky.\")\n",
    "else:\n",
    "    print(\"The array is not lucky.\")"
   ]
  },
  {
   "cell_type": "code",
   "execution_count": null,
   "id": "e799603a-eafc-43e7-8895-3510e4642ff5",
   "metadata": {},
   "outputs": [],
   "source": [
    "#13-Given a number N and a list A of N numbers. Print the array after doing the following operations:\n",
    "#Find minimum number in these numbers.\n",
    "#Find maximum number in these numbers.\n",
    "#Swap minimum number with maximum number."
   ]
  },
  {
   "cell_type": "code",
   "execution_count": 69,
   "id": "ce16adf3-3b65-4b54-af11-d20b51c8a1b0",
   "metadata": {},
   "outputs": [
    {
     "name": "stdin",
     "output_type": "stream",
     "text": [
      "Enter the number of List1:  5\n",
      "Enter the number 1:  7\n",
      "Enter the number 2:  8\n",
      "Enter the number 3:  9\n",
      "Enter the number 4:  1\n",
      "Enter the number 5:  4\n"
     ]
    },
    {
     "name": "stdout",
     "output_type": "stream",
     "text": [
      "min 1\n",
      "max 9\n",
      "min 9\n",
      "max 1\n"
     ]
    }
   ],
   "source": [
    "List1 = []\n",
    "Num_List1 = int(input(\"Enter the number of List1: \"))\n",
    "for i in range(Num_List1):\n",
    "    num = int(input(f\"Enter the number {i + 1}: \"))  \n",
    "    List1.append(num)\n",
    "min = List1[0]\n",
    "for num in List1:\n",
    "    if num < min:\n",
    "        min = num\n",
    "print(\"min\",min)\n",
    "max = List1[0]\n",
    "for num in List1:\n",
    "    if num > max:\n",
    "        max = num\n",
    "print(\"max\",max)\n",
    "swap = min\n",
    "min = max\n",
    "max = swap\n",
    "print(\"min\",min)\n",
    "print(\"max\",max)"
   ]
  },
  {
   "cell_type": "code",
   "execution_count": null,
   "id": "cb4a9e20-4c86-4802-a5fc-d4407bc41803",
   "metadata": {},
   "outputs": [],
   "source": [
    "#14-Given a number N and an array A of N numbers. Print the lowest number and its position."
   ]
  },
  {
   "cell_type": "code",
   "execution_count": 77,
   "id": "2781e8c5-3bb0-4a2a-907e-b09e9aead61f",
   "metadata": {},
   "outputs": [
    {
     "name": "stdin",
     "output_type": "stream",
     "text": [
      "Enter the number of elements in the list:  5\n",
      "Enter element 1:  7\n",
      "Enter element 2:  4\n",
      "Enter element 3:  8\n",
      "Enter element 4:  9\n",
      "Enter element 5:  2\n"
     ]
    },
    {
     "name": "stdout",
     "output_type": "stream",
     "text": [
      "Min element: 2, Position: 4\n"
     ]
    }
   ],
   "source": [
    "N = int(input(\"Enter the number of elements in the list: \"))\n",
    "List1 = []\n",
    "\n",
    "for i in range(N):\n",
    "    num = int(input(f\"Enter element {i+1}: \"))\n",
    "    List1.append(num)\n",
    "\n",
    "min_element = List1[0]\n",
    "for num in List1:\n",
    "    if num < min_element:\n",
    "        min_element = num\n",
    "\n",
    "position = List1.index(min_element)\n",
    "\n",
    "print(f\"Min element: {min_element}, Position: {position}\")\n"
   ]
  },
  {
   "cell_type": "code",
   "execution_count": null,
   "id": "c7cd90a2-d5cc-4d3e-a3f8-f45dbadc256e",
   "metadata": {},
   "outputs": [],
   "source": [
    "#15-Given a number N and an array A of N numbers. Print the numbers after sorting them"
   ]
  },
  {
   "cell_type": "code",
   "execution_count": null,
   "id": "7487e397-df88-41a6-8236-3978bac512d5",
   "metadata": {},
   "outputs": [],
   "source": [
    "List1 = []\n",
    "N = int(input(\"Enter the number of elements in the list: \"))\n",
    "\n",
    "for i in range(N):\n",
    "    num = int(input(f\"Enter element {i+1}: \"))\n",
    "    A.append(num)\n",
    "\n",
    "for i in range(N):\n",
    "    for j in range(N - 1 - i):\n",
    "        if A[j] > A[j + 1]:\n",
    "            A[j], A[j + 1] = A[j + 1], A[j]\n",
    "\n",
    "print(\"Sorted list:\", A)\n"
   ]
  },
  {
   "cell_type": "code",
   "execution_count": null,
   "id": "be9febc8-3ca1-4487-8f88-23abe00a42d3",
   "metadata": {},
   "outputs": [],
   "source": [
    "#16- Write a Python program to remove spaces from a given string"
   ]
  },
  {
   "cell_type": "code",
   "execution_count": 83,
   "id": "ce48fbeb-98c7-4d5b-9dd1-849e876f6f7e",
   "metadata": {},
   "outputs": [
    {
     "name": "stdin",
     "output_type": "stream",
     "text": [
      "Enter your string:  hoda ahmed farag\n"
     ]
    },
    {
     "name": "stdout",
     "output_type": "stream",
     "text": [
      "hodaahmedfarag\n"
     ]
    }
   ],
   "source": [
    "string = input(\"Enter your string: \")\n",
    "string = string.replace(\" \", \"\")\n",
    "print(string)"
   ]
  },
  {
   "cell_type": "code",
   "execution_count": null,
   "id": "9c1574fe-0d55-43b7-a44c-715c937eb726",
   "metadata": {},
   "outputs": [],
   "source": [
    "#17-write a Python program to swap first and last element of any list."
   ]
  },
  {
   "cell_type": "code",
   "execution_count": 87,
   "id": "7a0ae5bd-4c33-4564-8a88-6e945db8b318",
   "metadata": {},
   "outputs": [
    {
     "name": "stdin",
     "output_type": "stream",
     "text": [
      "Enter the number of List1:  5\n",
      "Enter the number 1:  4\n",
      "Enter the number 2:  7\n",
      "Enter the number 3:  8\n",
      "Enter the number 4:  2\n",
      "Enter the number 5:  6\n"
     ]
    },
    {
     "name": "stdout",
     "output_type": "stream",
     "text": [
      "[4, 7, 8, 2, 6]\n",
      "[6, 7, 8, 2, 4]\n"
     ]
    }
   ],
   "source": [
    "List1 = []\n",
    "Num_List1 = int(input(\"Enter the number of List1: \"))\n",
    "for i in range(Num_List1):\n",
    "    num = int(input(f\"Enter the number {i + 1}: \"))  \n",
    "    List1.append(num)\n",
    "print(List1)\n",
    "swap = List1[0]\n",
    "List1[0] = List1[-1]\n",
    "List1[-1] = swap\n",
    "print(List1)"
   ]
  },
  {
   "cell_type": "code",
   "execution_count": null,
   "id": "e365de64-5766-49c5-b768-85a18d37a5d7",
   "metadata": {},
   "outputs": [],
   "source": [
    "#Write a Python Program to Find HCF.\n",
    "#Highest Common Factor(HCF): HCF, or Highest Common Factor, is the largest positive integer that divides two or more numbers without leaving a remainder."
   ]
  },
  {
   "cell_type": "code",
   "execution_count": 95,
   "id": "22e53a01-2d42-4fa3-8105-dee1aa99cf76",
   "metadata": {},
   "outputs": [
    {
     "name": "stdin",
     "output_type": "stream",
     "text": [
      "Enter the first number:  20\n",
      "Enter the second number:  40\n"
     ]
    },
    {
     "name": "stdout",
     "output_type": "stream",
     "text": [
      "The highest common factor: 20\n"
     ]
    }
   ],
   "source": [
    "def hcf(num1, num2):\n",
    "    if num2 == 0:\n",
    "        return num1\n",
    "    else:\n",
    "        return hcf(num2, num1 % num2)\n",
    "\n",
    "num1 = int(input(\"Enter the first number: \"))\n",
    "num2 = int(input(\"Enter the second number: \"))\n",
    "\n",
    "print(\"The highest common factor:\", hcf(num1, num2))\n"
   ]
  },
  {
   "cell_type": "code",
   "execution_count": null,
   "id": "3d2daae2-0095-4fd7-85b5-9f203d12c6cd",
   "metadata": {},
   "outputs": [],
   "source": []
  }
 ],
 "metadata": {
  "kernelspec": {
   "display_name": "Python 3 (ipykernel)",
   "language": "python",
   "name": "python3"
  },
  "language_info": {
   "codemirror_mode": {
    "name": "ipython",
    "version": 3
   },
   "file_extension": ".py",
   "mimetype": "text/x-python",
   "name": "python",
   "nbconvert_exporter": "python",
   "pygments_lexer": "ipython3",
   "version": "3.12.7"
  }
 },
 "nbformat": 4,
 "nbformat_minor": 5
}
