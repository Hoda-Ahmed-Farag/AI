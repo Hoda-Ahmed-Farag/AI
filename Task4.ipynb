{
 "cells": [
  {
   "cell_type": "code",
   "execution_count": null,
   "id": "d666ebef-e290-48be-8d46-08a67741f32f",
   "metadata": {},
   "outputs": [],
   "source": [
    "#1-Write a Python program to calculate the length of a string using 2 ways"
   ]
  },
  {
   "cell_type": "code",
   "execution_count": 9,
   "id": "6e310038-2e56-464e-9cac-508f636262ec",
   "metadata": {},
   "outputs": [
    {
     "name": "stdin",
     "output_type": "stream",
     "text": [
      "Enter your string:  Hoda Ahmed\n"
     ]
    },
    {
     "name": "stdout",
     "output_type": "stream",
     "text": [
      "10\n"
     ]
    }
   ],
   "source": [
    "string = input(\"Enter your string: \")\n",
    "print(len(string))"
   ]
  },
  {
   "cell_type": "code",
   "execution_count": 13,
   "id": "c71391a0-2aec-4f24-b47e-18a0159c3915",
   "metadata": {},
   "outputs": [
    {
     "name": "stdin",
     "output_type": "stream",
     "text": [
      "Enter your string:  Hoda Ahmed\n"
     ]
    },
    {
     "name": "stdout",
     "output_type": "stream",
     "text": [
      "10\n"
     ]
    }
   ],
   "source": [
    "string = input(\"Enter your string: \")\n",
    "count = 0\n",
    "for i in string:\n",
    "    count += 1\n",
    "print(count)"
   ]
  },
  {
   "cell_type": "code",
   "execution_count": null,
   "id": "263b5555-e2e5-4eb6-bd21-76981cdd6318",
   "metadata": {},
   "outputs": [],
   "source": [
    "#2-Write a Python program to get a string made of the first 2 and last 2 characters of a given string.\n",
    "#If the string length is less than 2, return the empty string instead\n",
    "#(\"##Sample String : 'w3resource' Expected Result : 'w3ce'"
   ]
  },
  {
   "cell_type": "code",
   "execution_count": 23,
   "id": "979be7f9-caaf-482e-a07f-1dcbead0b958",
   "metadata": {},
   "outputs": [
    {
     "name": "stdin",
     "output_type": "stream",
     "text": [
      "Enter your string:  Hoda Ahmed\n"
     ]
    },
    {
     "name": "stdout",
     "output_type": "stream",
     "text": [
      "Hoed\n"
     ]
    }
   ],
   "source": [
    "string = input(\"Enter your string: \")\n",
    "first2 = string[0] + string[1]\n",
    "last2 = string[-2] + string[-1]\n",
    "string_len = len(string)\n",
    "if string_len < 2:\n",
    "    print(\"empty string\")\n",
    "else:\n",
    "    print(first2 + last2)"
   ]
  },
  {
   "cell_type": "code",
   "execution_count": null,
   "id": "1053e08e-4aab-42b4-9013-324d8fb1ba6f",
   "metadata": {},
   "outputs": [],
   "source": [
    "#3-Write a Python program to add 'ing' at the end of a given string (length should be at least 3).\n",
    "#If the given string already ends with 'ing', add 'ly' instead. If the string length of the given string is less than 3, leave it unchanged.\n",
    "#(Sample String : 'abc' Expected Result : 'abcing')"
   ]
  },
  {
   "cell_type": "code",
   "execution_count": 33,
   "id": "9816e1cd-d961-4bc9-a17f-37931a553e13",
   "metadata": {},
   "outputs": [
    {
     "name": "stdin",
     "output_type": "stream",
     "text": [
      "Enter your string (length should be at least 3):  read\n"
     ]
    },
    {
     "name": "stdout",
     "output_type": "stream",
     "text": [
      "Result: reading\n"
     ]
    }
   ],
   "source": [
    "def add_ing_or_ly(string):\n",
    "    if len(string) < 3:\n",
    "        return string\n",
    "    elif string.endswith('ing'):\n",
    "        return string + 'ly'\n",
    "    else:\n",
    "        return string + 'ing'\n",
    "\n",
    "string = input(\"Enter your string (length should be at least 3): \")\n",
    "result = add_ing_or_ly(string)\n",
    "print(\"Result:\", result)"
   ]
  },
  {
   "cell_type": "code",
   "execution_count": null,
   "id": "f6af7595-93d9-4fb4-bc3d-b41df7d9a867",
   "metadata": {},
   "outputs": [],
   "source": [
    "#4-Write a Python function that takes a list of words and return the longest word and the length of the longest one\n",
    "#(Longest word: Exercises Length of the longest word: 9)"
   ]
  },
  {
   "cell_type": "code",
   "execution_count": 69,
   "id": "233e9b89-d04c-4d85-bd41-1100d54043e9",
   "metadata": {},
   "outputs": [
    {
     "name": "stdin",
     "output_type": "stream",
     "text": [
      "Enter the number of List:  4\n",
      "Enter the word 1:  hoda\n",
      "Enter the word 2:  ahmed\n",
      "Enter the word 3:  abdelfattah\n",
      "Enter the word 4:  farag\n"
     ]
    },
    {
     "name": "stdout",
     "output_type": "stream",
     "text": [
      "min word: hoda with length: 4\n"
     ]
    }
   ],
   "source": [
    "list_of_words = []\n",
    "dict = {}\n",
    "Num_List1 = int(input(\"Enter the number of List: \"))\n",
    "for i in range(Num_List1):\n",
    "    word = input(f\"Enter the word {i + 1}: \")\n",
    "    list_of_words.append(word)\n",
    "for j in range(Num_List1):\n",
    "    dict[list_of_words[j]] = len(list_of_words[j])\n",
    "min_word = min(dict, key=dict.get)\n",
    "print(f\"min word: {min_word} with length: {dict[min_word]}\")"
   ]
  },
  {
   "cell_type": "code",
   "execution_count": null,
   "id": "c841dc54-056b-4225-a930-eacd0ae2948f",
   "metadata": {},
   "outputs": [],
   "source": [
    "#5-Write a Python program to change a given string to a newly string where the first and last chars have been exchanged using 2 ways\n",
    "#(Sample String:abca Expected Result:ebce)"
   ]
  },
  {
   "cell_type": "code",
   "execution_count": 79,
   "id": "585c4de1-3102-4c5d-b4c9-af8e706e7a6e",
   "metadata": {},
   "outputs": [
    {
     "name": "stdin",
     "output_type": "stream",
     "text": [
      "Enter your string:  hoda\n",
      "Enter your new char:  e\n"
     ]
    },
    {
     "name": "stdout",
     "output_type": "stream",
     "text": [
      "eode\n"
     ]
    }
   ],
   "source": [
    "string = input(\"Enter your string: \")\n",
    "string2 = input(\"Enter your new char: \")\n",
    "new_string = string2 + string[1:len(string)-1] + string2\n",
    "print(new_string)"
   ]
  },
  {
   "cell_type": "code",
   "execution_count": 7,
   "id": "cb01fdc7-fa23-4463-b911-35619cbb800a",
   "metadata": {},
   "outputs": [
    {
     "name": "stdin",
     "output_type": "stream",
     "text": [
      "Enter your string:  hoda\n",
      "Enter your new char:  e\n"
     ]
    },
    {
     "name": "stdout",
     "output_type": "stream",
     "text": [
      "eode\n"
     ]
    }
   ],
   "source": [
    "string = input(\"Enter your string: \")\n",
    "char_list = list(string)\n",
    "string2 = input(\"Enter your new char: \")\n",
    "char_list[0] = string2\n",
    "char_list[-1] = string2\n",
    "result = ''.join(char_list)\n",
    "print(result)"
   ]
  },
  {
   "cell_type": "code",
   "execution_count": null,
   "id": "958422e9-706c-451c-9ca2-031e79f2a75b",
   "metadata": {},
   "outputs": [],
   "source": [
    "#6-Write a Python program to remove characters that have odd index values in a given string (Sample String:abca Expected Result:ac)"
   ]
  },
  {
   "cell_type": "code",
   "execution_count": 17,
   "id": "10362ef6-5aa4-4ae7-ad30-6d570d753e72",
   "metadata": {},
   "outputs": [
    {
     "name": "stdin",
     "output_type": "stream",
     "text": [
      "Enter your string:  Hoda Ahmed\n"
     ]
    },
    {
     "name": "stdout",
     "output_type": "stream",
     "text": [
      "Hd he"
     ]
    }
   ],
   "source": [
    "string = input(\"Enter your string: \")\n",
    "for i in range(len(string)):\n",
    "    if i % 2 == 0:\n",
    "        print(string[i], end=\"\")"
   ]
  },
  {
   "cell_type": "code",
   "execution_count": null,
   "id": "bc3cef21-66a6-4cb6-8d9d-2afc58fad293",
   "metadata": {},
   "outputs": [],
   "source": [
    "#7-Write a Python program to count the occurrences of each word in a given sentence\n",
    "#(Sample String:amr and ahmed are frindes but amr is the tallest Expected Result:2)"
   ]
  },
  {
   "cell_type": "code",
   "execution_count": 19,
   "id": "4ca73683-8a28-4074-8c72-115e39c4be13",
   "metadata": {},
   "outputs": [
    {
     "name": "stdin",
     "output_type": "stream",
     "text": [
      "Enter your sentence:  amr and ahmed are frindes but amr is the tallest Expected\n"
     ]
    },
    {
     "name": "stdout",
     "output_type": "stream",
     "text": [
      "2\n"
     ]
    }
   ],
   "source": [
    "sentence = input(\"Enter your sentence: \")\n",
    "sentence = sentence.lower()\n",
    "words = sentence.split()\n",
    "dict1 = {}\n",
    "for word in words:\n",
    "    if word in dict1:\n",
    "        dict1[word] += 1  \n",
    "    else:\n",
    "        dict1[word] = 1\n",
    "max_count = max(dict1.values())\n",
    "print(max_count)"
   ]
  },
  {
   "cell_type": "code",
   "execution_count": null,
   "id": "205e6a54-815c-4f2f-a0c5-d2c81b9e0059",
   "metadata": {},
   "outputs": [],
   "source": [
    "#8-Write a Python script that takes input from the user and displays that input back in upper and lower cases"
   ]
  },
  {
   "cell_type": "code",
   "execution_count": 23,
   "id": "18f178d0-5505-42df-9678-980bb38b2473",
   "metadata": {},
   "outputs": [
    {
     "name": "stdin",
     "output_type": "stream",
     "text": [
      "Enter your sentence:  hoda ahmed farag\n"
     ]
    },
    {
     "name": "stdout",
     "output_type": "stream",
     "text": [
      "upper :  HODA AHMED FARAG\n",
      "lower :  hoda ahmed farag\n"
     ]
    }
   ],
   "source": [
    "sentence = input(\"Enter your sentence: \")\n",
    "sentence_lower = sentence.lower()\n",
    "sentence_upper = sentence.upper()\n",
    "print(\"upper : \",sentence_upper)\n",
    "print(\"lower : \",sentence_lower)"
   ]
  },
  {
   "cell_type": "code",
   "execution_count": null,
   "id": "0b95220f-792b-4ba8-8f53-c7284a60b141",
   "metadata": {},
   "outputs": [],
   "source": [
    "#9-Write a Python function to reverse a string if its length is a multiple of 4"
   ]
  },
  {
   "cell_type": "code",
   "execution_count": 25,
   "id": "ac366625-e8f4-4b38-80cb-f9e4b374cba4",
   "metadata": {},
   "outputs": [
    {
     "name": "stdin",
     "output_type": "stream",
     "text": [
      "Enter your string:  hoda ahmed farag\n"
     ]
    },
    {
     "name": "stdout",
     "output_type": "stream",
     "text": [
      "Result: garaf demha adoh\n"
     ]
    }
   ],
   "source": [
    "def reverse_if_multiple_of_4(s):\n",
    "    if len(s) % 4 == 0:\n",
    "        return s[::-1]\n",
    "    else:\n",
    "        return s\n",
    "\n",
    "string = input(\"Enter your string: \")\n",
    "result = reverse_if_multiple_of_4(string)\n",
    "print(\"Result:\", result)"
   ]
  },
  {
   "cell_type": "code",
   "execution_count": null,
   "id": "9e5ec8bc-1148-4dd4-b263-033e00489319",
   "metadata": {},
   "outputs": [],
   "source": [
    "#10- Write a Python program to remove a newline in Python"
   ]
  },
  {
   "cell_type": "code",
   "execution_count": 39,
   "id": "22bc977e-eca9-46b3-9663-3b24622e0f46",
   "metadata": {},
   "outputs": [
    {
     "name": "stdin",
     "output_type": "stream",
     "text": [
      "Enter your string:  hoda\n"
     ]
    },
    {
     "name": "stdout",
     "output_type": "stream",
     "text": [
      "hoda\n",
      "hoda\n"
     ]
    }
   ],
   "source": [
    "string = input(\"Enter your string: \")\n",
    "print(string)\n",
    "string = string.replace(\"\\n\", \"\")\n",
    "print(string)"
   ]
  },
  {
   "cell_type": "code",
   "execution_count": null,
   "id": "802a7b3b-0d9f-4295-bd06-75a001f2c4ca",
   "metadata": {},
   "outputs": [],
   "source": [
    "#11-Write a Python program to check whether a string starts with specified characters"
   ]
  },
  {
   "cell_type": "code",
   "execution_count": 1,
   "id": "bab109c4-dc0e-4393-ae26-0108f905b1eb",
   "metadata": {},
   "outputs": [
    {
     "name": "stdin",
     "output_type": "stream",
     "text": [
      "Enter a string:  hoda\n",
      "Enter the prefix to check:  h\n"
     ]
    },
    {
     "name": "stdout",
     "output_type": "stream",
     "text": [
      "The string starts with 'h'.\n"
     ]
    }
   ],
   "source": [
    "def check_start(string, prefix):\n",
    "    if string.startswith(prefix):\n",
    "        return True\n",
    "    else:\n",
    "        return False\n",
    "\n",
    "input_string = input(\"Enter a string: \")\n",
    "prefix = input(\"Enter the prefix to check: \")\n",
    "\n",
    "if check_start(input_string, prefix):\n",
    "    print(f\"The string starts with '{prefix}'.\")\n",
    "else:\n",
    "    print(f\"The string does not start with '{prefix}'.\")"
   ]
  },
  {
   "cell_type": "code",
   "execution_count": null,
   "id": "395607ef-9dde-42b3-a0b2-b65f5de4e1d6",
   "metadata": {},
   "outputs": [],
   "source": [
    "#12- Write a Python program to add prefix text to all of the lines in a string"
   ]
  },
  {
   "cell_type": "code",
   "execution_count": 9,
   "id": "852f1bbb-3a63-470c-af94-e0e7b25f1ee7",
   "metadata": {},
   "outputs": [
    {
     "name": "stdout",
     "output_type": "stream",
     "text": [
      ">> Hello World\n",
      ">> This is a test\n",
      ">> Python is fun\n"
     ]
    }
   ],
   "source": [
    "def add_prefix_to_lines(text, prefix):\n",
    "    return '\\n'.join([prefix + line for line in text.split('\\n')])\n",
    "\n",
    "text = \"\"\"Hello World\n",
    "This is a test\n",
    "Python is fun\"\"\"\n",
    "\n",
    "prefix = \">> \"\n",
    "\n",
    "result = add_prefix_to_lines(text, prefix)\n",
    "print(result)"
   ]
  },
  {
   "cell_type": "code",
   "execution_count": null,
   "id": "fe965c60-e2bb-4469-a9db-8b921edebce4",
   "metadata": {},
   "outputs": [],
   "source": [
    "#13-Write a Python program to print the following numbers up to 2 decimal places"
   ]
  },
  {
   "cell_type": "code",
   "execution_count": 3,
   "id": "f6d07ead-2c61-4c97-b54d-bd424862e148",
   "metadata": {},
   "outputs": [
    {
     "name": "stdin",
     "output_type": "stream",
     "text": [
      "Enter a number:  3.144555\n"
     ]
    },
    {
     "name": "stdout",
     "output_type": "stream",
     "text": [
      "3.14\n"
     ]
    }
   ],
   "source": [
    "num = float(input(\"Enter a number: \"))\n",
    "print(f\"{num:.2f}\")"
   ]
  },
  {
   "cell_type": "code",
   "execution_count": null,
   "id": "186fddee-c3d4-4a9b-bb07-aa1982775647",
   "metadata": {},
   "outputs": [],
   "source": [
    "#14-Write a Python program to print the following numbers up to 2 decimal places with a sign"
   ]
  },
  {
   "cell_type": "code",
   "execution_count": 5,
   "id": "8b8288bd-5838-466f-be64-d6fc5270eb3d",
   "metadata": {},
   "outputs": [
    {
     "name": "stdin",
     "output_type": "stream",
     "text": [
      "Enter a number:  2.14584\n"
     ]
    },
    {
     "name": "stdout",
     "output_type": "stream",
     "text": [
      "2.15\n"
     ]
    }
   ],
   "source": [
    "num = float(input(\"Enter a number: \"))\n",
    "print(f\"{num:.2f}\")"
   ]
  },
  {
   "cell_type": "code",
   "execution_count": null,
   "id": "d64de3e0-0a7e-4279-a5b0-c702cda28af3",
   "metadata": {},
   "outputs": [],
   "source": [
    "#15-Write a Python program to display a number with a comma separator"
   ]
  },
  {
   "cell_type": "code",
   "execution_count": 7,
   "id": "a0c59e31-9279-428b-a3d0-84b2676ef8ac",
   "metadata": {},
   "outputs": [
    {
     "name": "stdin",
     "output_type": "stream",
     "text": [
      " 1000000000\n"
     ]
    },
    {
     "name": "stdout",
     "output_type": "stream",
     "text": [
      "1,000,000,000\n"
     ]
    }
   ],
   "source": [
    "num = int(input())\n",
    "print(f\"{num:,d}\")"
   ]
  },
  {
   "cell_type": "code",
   "execution_count": null,
   "id": "15e041b3-8abf-45cf-ab26-03f582354e99",
   "metadata": {},
   "outputs": [],
   "source": [
    "#16-Write a Python program to reverse a string using 2 ways"
   ]
  },
  {
   "cell_type": "code",
   "execution_count": 43,
   "id": "aa4e7f1e-4ef7-4b70-bed3-3c98bb4cbefb",
   "metadata": {},
   "outputs": [
    {
     "name": "stdin",
     "output_type": "stream",
     "text": [
      "Enter your string:  hoda\n"
     ]
    },
    {
     "data": {
      "text/plain": [
       "'adoh'"
      ]
     },
     "execution_count": 43,
     "metadata": {},
     "output_type": "execute_result"
    }
   ],
   "source": [
    "string = input(\"Enter your string: \")\n",
    "string[::-1]"
   ]
  },
  {
   "cell_type": "code",
   "execution_count": 51,
   "id": "97328a2e-7438-4a6d-864c-c7840df60e2c",
   "metadata": {},
   "outputs": [
    {
     "name": "stdin",
     "output_type": "stream",
     "text": [
      "Enter your string:  hoda\n"
     ]
    },
    {
     "name": "stdout",
     "output_type": "stream",
     "text": [
      "adoh\n"
     ]
    }
   ],
   "source": [
    "string = input(\"Enter your string: \")\n",
    "reversed_string = \"\"\n",
    "\n",
    "for char in string:\n",
    "    reversed_string = char + reversed_string\n",
    "print(reversed_string)"
   ]
  },
  {
   "cell_type": "code",
   "execution_count": null,
   "id": "dd2f1ed6-8620-40af-a217-474e7a0a60ec",
   "metadata": {},
   "outputs": [],
   "source": [
    "#17-Write a Python program to count repeated characters in a string (hint:use dictionary)"
   ]
  },
  {
   "cell_type": "code",
   "execution_count": 57,
   "id": "a2c43d3d-2f69-43cf-8642-33288492cadd",
   "metadata": {},
   "outputs": [
    {
     "name": "stdin",
     "output_type": "stream",
     "text": [
      "Enter your string:  hoooodaa\n"
     ]
    },
    {
     "name": "stdout",
     "output_type": "stream",
     "text": [
      "{'h': 1, 'o': 4, 'd': 1, 'a': 2}\n"
     ]
    }
   ],
   "source": [
    "string = input(\"Enter your string: \")\n",
    "dict = {}\n",
    "for char in string:\n",
    "    if char in dict:\n",
    "        dict[char] += 1\n",
    "    else:\n",
    "         dict[char] = 1\n",
    "print(dict)"
   ]
  },
  {
   "cell_type": "code",
   "execution_count": null,
   "id": "45e3dc9a-82a1-4693-87ee-77f976734643",
   "metadata": {},
   "outputs": [],
   "source": [
    "#18-Write a Python program to find the first non-repeating character in a given string"
   ]
  },
  {
   "cell_type": "code",
   "execution_count": 11,
   "id": "7b2fd398-8f36-4d5f-a216-189002898e90",
   "metadata": {},
   "outputs": [
    {
     "name": "stdin",
     "output_type": "stream",
     "text": [
      "Enter a string:  hhhoooda\n"
     ]
    },
    {
     "name": "stdout",
     "output_type": "stream",
     "text": [
      "First non-repeating character is: d\n"
     ]
    }
   ],
   "source": [
    "def first_non_repeating_char(s):\n",
    "    char_count = {}\n",
    "\n",
    "    for char in s:\n",
    "        if char in char_count:\n",
    "            char_count[char] += 1\n",
    "        else:\n",
    "             char_count[char] = 1\n",
    "    \n",
    "    for char in s:\n",
    "        if char_count[char] == 1:\n",
    "            return char\n",
    "\n",
    "    return None\n",
    "\n",
    "string = input(\"Enter a string: \")\n",
    "result = first_non_repeating_char(string)\n",
    "\n",
    "if result:\n",
    "    print(\"First non-repeating character is:\", result)\n",
    "else:\n",
    "    print(\"No non-repeating characters found.\")"
   ]
  },
  {
   "cell_type": "code",
   "execution_count": null,
   "id": "49a0c084-44ab-4928-bc27-6c0e99c774e2",
   "metadata": {},
   "outputs": [],
   "source": [
    "#19-Write a Python program to remove spaces from a given string"
   ]
  },
  {
   "cell_type": "code",
   "execution_count": 13,
   "id": "40767e2e-738b-4dc4-999e-a3616faa338a",
   "metadata": {},
   "outputs": [
    {
     "name": "stdin",
     "output_type": "stream",
     "text": [
      "Enter your string:  hoda ahmed\n"
     ]
    },
    {
     "name": "stdout",
     "output_type": "stream",
     "text": [
      "hodaahmed\n"
     ]
    }
   ],
   "source": [
    "string = input(\"Enter your string: \")\n",
    "string1 = string.replace(\" \",\"\")\n",
    "print(string1)"
   ]
  },
  {
   "cell_type": "code",
   "execution_count": null,
   "id": "57a4926e-7b54-436f-8b50-c9acabbb29de",
   "metadata": {},
   "outputs": [],
   "source": [
    "#20-Write a Python program to count the number of non-empty substrings of a given string"
   ]
  },
  {
   "cell_type": "code",
   "execution_count": 19,
   "id": "8f28fe35-57c2-4f8e-8cd2-6876c8ac65a6",
   "metadata": {},
   "outputs": [
    {
     "name": "stdin",
     "output_type": "stream",
     "text": [
      "Enter your string:  hoda\n"
     ]
    },
    {
     "name": "stdout",
     "output_type": "stream",
     "text": [
      "10.0\n"
     ]
    }
   ],
   "source": [
    "string = input(\"Enter your string: \")\n",
    "n = len(string)\n",
    "num_of_substrings = (n*(n+1))/2\n",
    "print(num_of_substrings)"
   ]
  },
  {
   "cell_type": "code",
   "execution_count": null,
   "id": "dc0caeda-76c7-43ef-8c39-0d8c8d126aaf",
   "metadata": {},
   "outputs": [],
   "source": [
    "#21-write a Python program to swap first and last element of any list."
   ]
  },
  {
   "cell_type": "code",
   "execution_count": 21,
   "id": "40b60cc9-8d13-4caa-8073-6f0fd66f7e0c",
   "metadata": {},
   "outputs": [
    {
     "name": "stdin",
     "output_type": "stream",
     "text": [
      "Enter the number of List:  4\n",
      "Enter your number 1:  1\n",
      "Enter your number 2:  2\n",
      "Enter your number 3:  3\n",
      "Enter your number 4:  4\n"
     ]
    },
    {
     "name": "stdout",
     "output_type": "stream",
     "text": [
      "['4', '2', '3', '1']\n"
     ]
    }
   ],
   "source": [
    "list1 = []\n",
    "Num_List1 = int(input(\"Enter the number of List: \"))\n",
    "for i in range(Num_List1):\n",
    "    number = input(f\"Enter your number {i+1}: \")\n",
    "    list1.append(number)\n",
    "first_element = list1[0]\n",
    "list1[0] = list1[-1]\n",
    "list1[-1] = first_element\n",
    "print(list1)"
   ]
  },
  {
   "cell_type": "code",
   "execution_count": null,
   "id": "a5eae806-fe63-4fb9-b99a-c63eae5be21c",
   "metadata": {},
   "outputs": [],
   "source": [
    "#22-Given a list in Python and provided the positions of the elements, write a program to swap the two elements in the list.\n",
    "#(Input : List = [23, 65, 19, 90], pos1 = 1, pos2 = 3 Output : [19, 65, 23, 90])"
   ]
  },
  {
   "cell_type": "code",
   "execution_count": 25,
   "id": "2b5d78f0-39ee-444a-8127-9f4fe77e35cc",
   "metadata": {},
   "outputs": [
    {
     "name": "stdin",
     "output_type": "stream",
     "text": [
      "Enter the number of List:  4\n",
      "Enter your number 1:  1\n",
      "Enter your number 2:  2\n",
      "Enter your number 3:  3\n",
      "Enter your number 4:  4\n",
      "Where is the first item you want to replace?  2\n",
      "Where is the second item you want to replace?  3\n"
     ]
    },
    {
     "name": "stdout",
     "output_type": "stream",
     "text": [
      "['1', '3', '2', '4']\n"
     ]
    }
   ],
   "source": [
    "list1 = []\n",
    "Num_List1 = int(input(\"Enter the number of List: \"))\n",
    "for i in range(Num_List1):\n",
    "    number = input(f\"Enter your number {i+1}: \")\n",
    "    list1.append(number)\n",
    "pos1 = int(input(\"Where is the first item you want to replace? \"))\n",
    "pos2 = int(input(\"Where is the second item you want to replace? \"))\n",
    "temp = list1[pos1-1]\n",
    "list1[pos1-1] = list1[pos2-1]\n",
    "list1[pos2-1] = temp\n",
    "print(list1)"
   ]
  },
  {
   "cell_type": "code",
   "execution_count": null,
   "id": "e169fc30-91a6-495b-9994-201e9895ffee",
   "metadata": {},
   "outputs": [],
   "source": [
    "#23- search for the all ways to know the length of the list"
   ]
  },
  {
   "cell_type": "code",
   "execution_count": 27,
   "id": "ed5ca73f-d5aa-4d79-8848-d1ee21d9a478",
   "metadata": {},
   "outputs": [
    {
     "name": "stdout",
     "output_type": "stream",
     "text": [
      "Length: 4\n"
     ]
    }
   ],
   "source": [
    "#The first method\n",
    "my_list = [1, 2, 3, 4]\n",
    "length = len(my_list)\n",
    "print(\"Length:\", length)"
   ]
  },
  {
   "cell_type": "code",
   "execution_count": 15,
   "id": "7bf6611c-da5b-4b47-bfae-df00854f6ac4",
   "metadata": {},
   "outputs": [
    {
     "name": "stdout",
     "output_type": "stream",
     "text": [
      "Length: 4\n"
     ]
    }
   ],
   "source": [
    "#The second method\n",
    "my_list = [1, 2, 3, 4]\n",
    "count = 0\n",
    "for item in my_list:\n",
    "    count += 1\n",
    "print(\"Length:\", count)"
   ]
  },
  {
   "cell_type": "code",
   "execution_count": 31,
   "id": "84bc615d-d3bb-48b0-8baf-6fac700e7a1d",
   "metadata": {},
   "outputs": [
    {
     "name": "stdout",
     "output_type": "stream",
     "text": [
      "Length: 4\n"
     ]
    }
   ],
   "source": [
    "#The third method\n",
    "my_list = [1, 2, 3, 4]\n",
    "count = 0\n",
    "while True:\n",
    "    try:\n",
    "        my_list[count]\n",
    "        count += 1\n",
    "    except IndexError:\n",
    "        break\n",
    "print(\"Length:\", count)"
   ]
  },
  {
   "cell_type": "code",
   "execution_count": null,
   "id": "d2ef019f-a40b-4b69-af99-391bc0619365",
   "metadata": {},
   "outputs": [],
   "source": [
    "#24-write a Python code to find the Maximum number of list of numbers."
   ]
  },
  {
   "cell_type": "code",
   "execution_count": 7,
   "id": "ac301717-5b88-49e1-92bb-ae09342ed8dd",
   "metadata": {},
   "outputs": [
    {
     "name": "stdin",
     "output_type": "stream",
     "text": [
      "Enter the number of List:  5\n",
      "Enter your number 1:  54\n",
      "Enter your number 2:  845\n",
      "Enter your number 3:  22\n",
      "Enter your number 4:  598\n",
      "Enter your number 5:  568\n"
     ]
    },
    {
     "name": "stdout",
     "output_type": "stream",
     "text": [
      "845\n"
     ]
    }
   ],
   "source": [
    "list1 = []\n",
    "Num_List1 = int(input(\"Enter the number of List: \"))\n",
    "for i in range(Num_List1):\n",
    "    number = int(input(f\"Enter your number {i+1}: \"))\n",
    "    list1.append(number)\n",
    "MAX = list1[0]\n",
    "for i in range(1,Num_List1):\n",
    "    if list1[i] > MAX:\n",
    "        MAX = list1[i]\n",
    "print(MAX)"
   ]
  },
  {
   "cell_type": "code",
   "execution_count": null,
   "id": "e3f69a73-a6e0-4dd1-adc7-82af8082ed1a",
   "metadata": {},
   "outputs": [],
   "source": [
    "#25-write a Python code to find the Minimum number of list of numbers."
   ]
  },
  {
   "cell_type": "code",
   "execution_count": 9,
   "id": "d7dc9147-30a0-4416-b57d-3bf700460ada",
   "metadata": {},
   "outputs": [
    {
     "name": "stdin",
     "output_type": "stream",
     "text": [
      "Enter the number of List:  5\n",
      "Enter your number 1:  1546\n",
      "Enter your number 2:  884\n",
      "Enter your number 3:  615\n",
      "Enter your number 4:  2\n",
      "Enter your number 5:  5\n"
     ]
    },
    {
     "name": "stdout",
     "output_type": "stream",
     "text": [
      "2\n"
     ]
    }
   ],
   "source": [
    "list1 = []\n",
    "Num_List1 = int(input(\"Enter the number of List: \"))\n",
    "for i in range(Num_List1):\n",
    "    number = int(input(f\"Enter your number {i+1}: \"))\n",
    "    list1.append(number)\n",
    "MIN = list1[0]\n",
    "for i in range(1,Num_List1):\n",
    "    if list1[i] < MIN:\n",
    "        MIN = list1[i]\n",
    "print(MIN)"
   ]
  },
  {
   "cell_type": "code",
   "execution_count": null,
   "id": "ccd2bacb-e72b-410c-a787-940e4855a7d1",
   "metadata": {},
   "outputs": [],
   "source": [
    "#26-search for if an elem is existing in list"
   ]
  },
  {
   "cell_type": "code",
   "execution_count": 13,
   "id": "711a4d93-5228-4da0-a5e3-7de530533158",
   "metadata": {},
   "outputs": [
    {
     "name": "stdin",
     "output_type": "stream",
     "text": [
      "Enter the number of List:  4\n",
      "Enter your number 1:  1\n",
      "Enter your number 2:  2\n",
      "Enter your number 3:  3\n",
      "Enter your number 4:  4\n",
      "Enter the element to search for:  5\n"
     ]
    },
    {
     "name": "stdout",
     "output_type": "stream",
     "text": [
      "Element not found in the list.\n"
     ]
    }
   ],
   "source": [
    "list1 = []\n",
    "Num_List1 = int(input(\"Enter the number of List: \"))\n",
    "for i in range(Num_List1):\n",
    "    number = int(input(f\"Enter your number {i+1}: \"))\n",
    "    list1.append(number)\n",
    "element = int(input(\"Enter the element to search for: \"))\n",
    "if element in list1:\n",
    "    print(\"Element exists in the list.\")\n",
    "else:\n",
    "    print(\"Element not found in the list.\")"
   ]
  },
  {
   "cell_type": "code",
   "execution_count": null,
   "id": "91a5c35d-6456-41e6-b334-6017f5360925",
   "metadata": {},
   "outputs": [],
   "source": [
    "#27- clear python list using different ways"
   ]
  },
  {
   "cell_type": "code",
   "execution_count": 17,
   "id": "4989173a-9f38-4392-8792-a415e9ab0f15",
   "metadata": {},
   "outputs": [
    {
     "name": "stdout",
     "output_type": "stream",
     "text": [
      "[]\n"
     ]
    }
   ],
   "source": [
    "#The first method\n",
    "my_list = [1, 2, 3, 4]\n",
    "my_list.clear()\n",
    "print(my_list)"
   ]
  },
  {
   "cell_type": "code",
   "execution_count": 19,
   "id": "9a659417-1354-4b4c-9bdf-21f15093ae63",
   "metadata": {},
   "outputs": [
    {
     "name": "stdout",
     "output_type": "stream",
     "text": [
      "[]\n"
     ]
    }
   ],
   "source": [
    "#The second method\n",
    "my_list = [1, 2, 3, 4]\n",
    "my_list = []\n",
    "print(my_list)"
   ]
  },
  {
   "cell_type": "code",
   "execution_count": 21,
   "id": "e7c44634-e0f1-4691-997f-51151311d081",
   "metadata": {},
   "outputs": [
    {
     "name": "stdout",
     "output_type": "stream",
     "text": [
      "[]\n"
     ]
    }
   ],
   "source": [
    "#The third method\n",
    "my_list = [1, 2, 3, 4]\n",
    "del my_list[:]\n",
    "print(my_list)"
   ]
  },
  {
   "cell_type": "code",
   "execution_count": 23,
   "id": "2d25eb8a-bec6-44ea-af61-46ff93916f19",
   "metadata": {},
   "outputs": [
    {
     "name": "stdout",
     "output_type": "stream",
     "text": [
      "[]\n"
     ]
    }
   ],
   "source": [
    "#The fourth method\n",
    "my_list = [1, 2, 3, 4]\n",
    "while my_list:\n",
    "    my_list.pop()\n",
    "print(my_list)"
   ]
  },
  {
   "cell_type": "code",
   "execution_count": 27,
   "id": "137f249b-d2d9-492c-85b5-835b609bcf8f",
   "metadata": {},
   "outputs": [
    {
     "name": "stdout",
     "output_type": "stream",
     "text": [
      "[]\n"
     ]
    }
   ],
   "source": [
    "#The fifth method\n",
    "my_list = [1, 2, 3, 4]\n",
    "my_list *= 0\n",
    "print(my_list)"
   ]
  },
  {
   "cell_type": "code",
   "execution_count": null,
   "id": "c7640834-7e44-4301-82cf-a9131d86ea63",
   "metadata": {},
   "outputs": [],
   "source": [
    "#28-remove duplicated elements from a list"
   ]
  },
  {
   "cell_type": "code",
   "execution_count": 45,
   "id": "fd02703b-9364-4dba-a31a-07dd7d5fdfc2",
   "metadata": {},
   "outputs": [
    {
     "name": "stdin",
     "output_type": "stream",
     "text": [
      "Enter the number of List:  4\n",
      "Enter your number 1:  1\n",
      "Enter your number 2:  1\n",
      "Enter your number 3:  2\n",
      "Enter your number 4:  3\n"
     ]
    },
    {
     "name": "stdout",
     "output_type": "stream",
     "text": [
      "[1, 2, 3]\n"
     ]
    }
   ],
   "source": [
    "#The first method (arranged)\n",
    "list1 = []\n",
    "Num_list1 = int(input(\"Enter the number of List: \"))\n",
    "for i in range(Num_list1):\n",
    "    number = int(input(f\"Enter your number {i+1}: \"))\n",
    "    list1.append(number)\n",
    "list2 = []\n",
    "for i in list1:\n",
    "    if i not in list2:\n",
    "        list2.append(i)\n",
    "print(list2)"
   ]
  },
  {
   "cell_type": "code",
   "execution_count": 49,
   "id": "44133120-3d52-4508-b20c-b485f560bbc8",
   "metadata": {},
   "outputs": [
    {
     "name": "stdin",
     "output_type": "stream",
     "text": [
      "Enter the number of List:  4\n",
      "Enter your number 1:  1\n",
      "Enter your number 2:  1\n",
      "Enter your number 3:  2\n",
      "Enter your number 4:  3\n"
     ]
    },
    {
     "name": "stdout",
     "output_type": "stream",
     "text": [
      "[1, 2, 3]\n"
     ]
    }
   ],
   "source": [
    "#The second method (not arranged)\n",
    "list1 = []\n",
    "Num_list1 = int(input(\"Enter the number of List: \"))\n",
    "for i in range(Num_list1):\n",
    "    number = int(input(f\"Enter your number {i+1}: \"))\n",
    "    list1.append(number)\n",
    "list1 = list(set(list1))\n",
    "print(list1)"
   ]
  },
  {
   "cell_type": "code",
   "execution_count": null,
   "id": "8fa326bc-d1f9-48e3-bba5-f645ab831271",
   "metadata": {},
   "outputs": [],
   "source": [
    "#29-Given list values and keys list, convert these values to key value pairs in form of list of dictionaries.\n",
    "#(Input : test_list = [“Gfg”, 3, “is”, 8], key_list = [“name”, “id”] Output : [{‘name’: ‘Gfg’, ‘id’: 3}, {‘name’: ‘is’, ‘id’: 8}])"
   ]
  },
  {
   "cell_type": "code",
   "execution_count": 55,
   "id": "cf1e4492-5abe-466b-abb0-ec18948c5eb1",
   "metadata": {},
   "outputs": [
    {
     "name": "stdout",
     "output_type": "stream",
     "text": [
      "[{'name': 'Gfg', 'id': 3}, {'name': 'is', 'id': 8}]\n"
     ]
    }
   ],
   "source": [
    "test_list = [\"Gfg\", 3, \"is\", 8]\n",
    "key_list = [\"name\", \"id\"]\n",
    "result = []\n",
    "for i in range(0, len(test_list), len(key_list)):\n",
    "    temp = dict(zip(key_list, test_list[i:i+len(key_list)]))\n",
    "    result.append(temp)\n",
    "\n",
    "print(result)"
   ]
  },
  {
   "cell_type": "code",
   "execution_count": null,
   "id": "a4619010-fdda-4aca-b80d-1ff9ae340265",
   "metadata": {},
   "outputs": [],
   "source": [
    "#30-write a python program to count unique values inside a list using different ways"
   ]
  },
  {
   "cell_type": "code",
   "execution_count": 69,
   "id": "8d414bbc-8bea-46ae-8d43-6d6c8179d070",
   "metadata": {},
   "outputs": [
    {
     "name": "stdin",
     "output_type": "stream",
     "text": [
      "Enter the number of List:  4\n",
      "Enter your number 1:  1\n",
      "Enter your number 2:  1\n",
      "Enter your number 3:  2\n",
      "Enter your number 4:  3\n"
     ]
    },
    {
     "name": "stdout",
     "output_type": "stream",
     "text": [
      "3\n"
     ]
    }
   ],
   "source": [
    "#The first method (arranged)\n",
    "list1 = []\n",
    "Num_list1 = int(input(\"Enter the number of List: \"))\n",
    "for i in range(Num_list1):\n",
    "    number = int(input(f\"Enter your number {i+1}: \"))\n",
    "    list1.append(number)\n",
    "list2 = []\n",
    "for i in list1:\n",
    "    if i not in list2:\n",
    "        list2.append(i)\n",
    "print(len(list2))"
   ]
  },
  {
   "cell_type": "code",
   "execution_count": 67,
   "id": "e3cbf751-13a0-486f-a4af-dc19c88d0aa5",
   "metadata": {},
   "outputs": [
    {
     "name": "stdin",
     "output_type": "stream",
     "text": [
      "Enter the number of List:  4\n",
      "Enter your number 1:  1\n",
      "Enter your number 2:  1\n",
      "Enter your number 3:  2\n",
      "Enter your number 4:  3\n"
     ]
    },
    {
     "name": "stdout",
     "output_type": "stream",
     "text": [
      "3\n"
     ]
    }
   ],
   "source": [
    "#The second method (not arranged)\n",
    "list1 = []\n",
    "Num_list1 = int(input(\"Enter the number of List: \"))\n",
    "for i in range(Num_list1):\n",
    "    number = int(input(f\"Enter your number {i+1}: \"))\n",
    "    list1.append(number)\n",
    "list1 = list(set(list1))\n",
    "print(len(list1))"
   ]
  },
  {
   "cell_type": "code",
   "execution_count": null,
   "id": "04fdbacd-52b6-4c77-b557-d61fce042332",
   "metadata": {},
   "outputs": [],
   "source": [
    "#31-write a python program Extract all elements with Frequency greater than K \n",
    "#(Input : test_list = [4, 6, 4, 3, 3, 4, 3, 4, 3, 8], K = 3 Output : [4, 3] )"
   ]
  },
  {
   "cell_type": "code",
   "execution_count": 87,
   "id": "e31717d4-559c-4cca-a304-c8f49285b48a",
   "metadata": {},
   "outputs": [
    {
     "name": "stdin",
     "output_type": "stream",
     "text": [
      "Enter the number of List:  10\n",
      "Enter your number 1:  4\n",
      "Enter your number 2:  6\n",
      "Enter your number 3:  4\n",
      "Enter your number 4:  3\n",
      "Enter your number 5:  3\n",
      "Enter your number 6:  4\n",
      "Enter your number 7:  3\n",
      "Enter your number 8:  4\n",
      "Enter your number 9:  3\n",
      "Enter your number 10:  8\n",
      "Enter the value of k:  3\n"
     ]
    },
    {
     "name": "stdout",
     "output_type": "stream",
     "text": [
      "[4, 3]\n"
     ]
    }
   ],
   "source": [
    "list1 = []\n",
    "Num_list1 = int(input(\"Enter the number of List: \"))\n",
    "for i in range(Num_list1):\n",
    "    number = int(input(f\"Enter your number {i+1}: \"))\n",
    "    list1.append(number)\n",
    "Num_count = {}\n",
    "result = []\n",
    "for num in list1:\n",
    "    if num in Num_count:\n",
    "        Num_count[num] += 1\n",
    "    else:\n",
    "        Num_count[num] = 1\n",
    "k = int(input(\"Enter the value of k: \"))\n",
    "for i in Num_count:\n",
    "    if Num_count[i] >= 3:\n",
    "        result.append(i)\n",
    "print(result)"
   ]
  },
  {
   "cell_type": "code",
   "execution_count": null,
   "id": "a399ab5d-2f23-4b79-88ce-65abb5e3c308",
   "metadata": {},
   "outputs": [],
   "source": [
    "#32-write a python program to find the Strongest Neighbour (Input: 1 2 2 3 4 5 Output: 2 2 3 4 5)"
   ]
  },
  {
   "cell_type": "code",
   "execution_count": 135,
   "id": "2335e6be-d863-478f-b49f-83582662b4ce",
   "metadata": {},
   "outputs": [
    {
     "name": "stdin",
     "output_type": "stream",
     "text": [
      "Enter the number of List:  6\n",
      "Enter your number 1:  1\n",
      "Enter your number 2:  2\n",
      "Enter your number 3:  2\n",
      "Enter your number 4:  3\n",
      "Enter your number 5:  4\n",
      "Enter your number 6:  5\n"
     ]
    },
    {
     "name": "stdout",
     "output_type": "stream",
     "text": [
      "[2, 2, 3, 4, 5]\n"
     ]
    }
   ],
   "source": [
    "list1 = []\n",
    "result = []\n",
    "Num_list1 = int(input(\"Enter the number of List: \"))\n",
    "for i in range(Num_list1):\n",
    "    number = int(input(f\"Enter your number {i+1}: \"))\n",
    "    list1.append(number)\n",
    "for i in range(1,Num_list1):\n",
    "   if list1[i] >= list1[i-1]:\n",
    "       result.append(list1[i])\n",
    "print(result)"
   ]
  },
  {
   "cell_type": "code",
   "execution_count": null,
   "id": "88c9a5b1-d2da-4bca-b81f-44ca4ff14014",
   "metadata": {},
   "outputs": [],
   "source": [
    "#33-write a Python Program to print all Possible Combinations from the three Digits\n",
    "#(Input: [1, 2, 3] Output: 1 2 3 ## 1 3 2 ## 2 1 3 ## 2 3 1 ## 3 1 2 ## 3 2 1)"
   ]
  },
  {
   "cell_type": "code",
   "execution_count": 137,
   "id": "88630dd3-3937-46ea-8dca-3c8a2806dc06",
   "metadata": {},
   "outputs": [
    {
     "name": "stdout",
     "output_type": "stream",
     "text": [
      "1 2 3\n",
      "1 3 2\n",
      "2 1 3\n",
      "2 3 1\n",
      "3 1 2\n",
      "3 2 1\n"
     ]
    }
   ],
   "source": [
    "import itertools\n",
    "numbers = [1, 2, 3]\n",
    "combinations = itertools.permutations(numbers)\n",
    "for i in combinations:\n",
    "    print(\" \".join(map(str, i)))"
   ]
  },
  {
   "cell_type": "code",
   "execution_count": null,
   "id": "9ab6748f-2cad-4d0c-a282-5b3443595857",
   "metadata": {},
   "outputs": [],
   "source": [
    "#34-write a Python program to find all the Combinations in the list with the given condition\n",
    "#(Input: test_list = [1,2,3] Output: [1], [1, 2], [1, 2, 3], [1, 3] [2], [2, 3], [3])"
   ]
  },
  {
   "cell_type": "code",
   "execution_count": 139,
   "id": "0e798088-b149-4f3a-b545-bf6714b5795d",
   "metadata": {},
   "outputs": [
    {
     "name": "stdout",
     "output_type": "stream",
     "text": [
      "(1,)\n",
      "(2,)\n",
      "(3,)\n",
      "(1, 2)\n",
      "(1, 3)\n",
      "(2, 3)\n",
      "(1, 2, 3)\n"
     ]
    }
   ],
   "source": [
    "import itertools\n",
    "test_list = [1, 2, 3]\n",
    "combinations = []\n",
    "for r in range(1, len(test_list) + 1):\n",
    "    combinations.extend(itertools.combinations(test_list, r))\n",
    "for i in combinations:\n",
    "    print(i)"
   ]
  },
  {
   "cell_type": "code",
   "execution_count": null,
   "id": "0c17729d-463a-4189-8840-a94778a9e99d",
   "metadata": {},
   "outputs": [],
   "source": [
    "#35-write a Python program to get all unique combinations of two Lists\n",
    "#(List_1 = [\"a\",\"b\"] List_2 = [1,2] Unique_combination = [[('a',1),('b',2)],[('a',2),('b',1)]] )"
   ]
  },
  {
   "cell_type": "code",
   "execution_count": 13,
   "id": "540d4b92-3730-4c06-aace-e9d4006c1950",
   "metadata": {},
   "outputs": [
    {
     "name": "stdout",
     "output_type": "stream",
     "text": [
      "Unique combinations of two lists:\n",
      "('a', 1)\n",
      "('a', 2)\n",
      "('b', 1)\n",
      "('b', 2)\n"
     ]
    }
   ],
   "source": [
    "list1 = [\"a\",\"b\"]\n",
    "list2 = [1,2]\n",
    "unique_combinations = []\n",
    "\n",
    "for i in list1:\n",
    "    for j in list2:\n",
    "        unique_combinations.append((i, j))\n",
    "\n",
    "print(\"Unique combinations of two lists:\")\n",
    "for comb in unique_combinations:\n",
    "    print(comb)"
   ]
  },
  {
   "cell_type": "code",
   "execution_count": null,
   "id": "30ff56db-bd63-45eb-8390-e97f0d549754",
   "metadata": {},
   "outputs": [],
   "source": [
    "#36-Remove all the occurrences of an element from a list in Python (Input : 1 1 2 3 4 5 1 2 1 Output : 2 3 4 5 2)"
   ]
  },
  {
   "cell_type": "code",
   "execution_count": 15,
   "id": "ee82d8d8-4211-483d-9a95-5def9ccdefd8",
   "metadata": {},
   "outputs": [
    {
     "name": "stdin",
     "output_type": "stream",
     "text": [
      "Enter numbers separated by space:  1 1 2 3 4 5 1 2 1\n"
     ]
    },
    {
     "name": "stdout",
     "output_type": "stream",
     "text": [
      "Output: 2 3 4 5 2\n"
     ]
    }
   ],
   "source": [
    "input_list = list(map(int, input(\"Enter numbers separated by space: \").split()))\n",
    "element_to_remove = 1\n",
    "filtered_list = [x for x in input_list if x != element_to_remove]\n",
    "print(\"Output:\", *filtered_list)"
   ]
  },
  {
   "cell_type": "code",
   "execution_count": null,
   "id": "4b3a9393-3b7b-4c0a-a4ef-f0359fa52957",
   "metadata": {},
   "outputs": [],
   "source": [
    "#37-write a python program to Replace index elements with elements in Other List\n",
    "#(The original list 1 is : [‘Gfg’, ‘is’, ‘best’] The original list 2 is : [0, 1, 2, 1, 0, 0, 0, 2, 1, 1, 2, 0] \n",
    "#The lists after index elements replacements is : [‘Gfg’, ‘is’, ‘best’, ‘is’, ‘Gfg’, ‘Gfg’, ‘Gfg’, ‘best’, ‘is’, ‘is’, ‘best’, ‘Gfg’])"
   ]
  },
  {
   "cell_type": "code",
   "execution_count": 21,
   "id": "9f645e63-29c2-4262-ba72-c0e61338d530",
   "metadata": {},
   "outputs": [
    {
     "name": "stdout",
     "output_type": "stream",
     "text": [
      "['Gfg', 'is', 'best', 'is', 'Gfg', 'Gfg', 'Gfg', 'best', 'is', 'is', 'best', 'Gfg']\n"
     ]
    }
   ],
   "source": [
    "list1 = ['Gfg', 'is', 'best']\n",
    "list2 = [0, 1, 2, 1, 0, 0, 0, 2, 1, 1, 2, 0] \n",
    "list_after_replac = []\n",
    "for i in range(len(list2)):\n",
    "    temp = list2[i]\n",
    "    list_after_replac.append(list1[temp])\n",
    "print(list_after_replac)"
   ]
  },
  {
   "cell_type": "code",
   "execution_count": null,
   "id": "65219b4d-94e4-41fc-9200-c5abe48e38e2",
   "metadata": {},
   "outputs": [],
   "source": [
    "#38- write python program to Retain records with N occurrences of K\n",
    "#(Input : test_list = [(4, 5, 5, 4), (5, 4, 3)], K = 5, N = 2 Output : [(4, 5, 5, 4)] \n",
    "#Input : test_list = [(4, 5, 5, 4), (5, 4, 3)], K = 5, N = 3 Output : [] )"
   ]
  },
  {
   "cell_type": "code",
   "execution_count": 23,
   "id": "99d9f4cd-763b-47a3-826b-101bc75b28c1",
   "metadata": {},
   "outputs": [
    {
     "name": "stdout",
     "output_type": "stream",
     "text": [
      "Output 1: [(4, 5, 5, 4)]\n",
      "Output 2: []\n"
     ]
    }
   ],
   "source": [
    "def retain_records_with_n_occurrences(test_list, K, N):\n",
    "    result = []\n",
    "    for record in test_list:\n",
    "        count = record.count(K)\n",
    "        if count == N:\n",
    "            result.append(record)\n",
    "    return result\n",
    "\n",
    "test_list1 = [(4, 5, 5, 4), (5, 4, 3)]\n",
    "K1, N1 = 5, 2\n",
    "test_list2 = [(4, 5, 5, 4), (5, 4, 3)]\n",
    "K2, N2 = 5, 3\n",
    "\n",
    "print(\"Output 1:\", retain_records_with_n_occurrences(test_list1, K1, N1))\n",
    "print(\"Output 2:\", retain_records_with_n_occurrences(test_list2, K2, N2))"
   ]
  },
  {
   "cell_type": "code",
   "execution_count": null,
   "id": "3a127a47-b8c1-4477-8ca3-f2000ed82127",
   "metadata": {},
   "outputs": [],
   "source": [
    "#39-write a Python Program to Sort the list according to the column using lambda array = [[1, 3, 3], [2, 1, 2], [3, 2, 1]]\n",
    "#Output : Sorted array specific to column 0, [[1, 3, 3], [2, 1, 2], [3, 2, 1]] \n",
    "#Sorted array specific to column 1, [[2, 1, 2], [3, 2, 1], [1, 3, 3]]\n",
    "#Sorted array specific to column 2, [[3, 2, 1], [2, 1, 2], [1, 3, 3]]"
   ]
  },
  {
   "cell_type": "code",
   "execution_count": 25,
   "id": "cd20c050-1c97-4ccd-b17e-a86d880b8ed7",
   "metadata": {},
   "outputs": [
    {
     "name": "stdout",
     "output_type": "stream",
     "text": [
      "Sorted array specific to column 0: [[1, 3, 3], [2, 1, 2], [3, 2, 1]]\n",
      "Sorted array specific to column 1: [[2, 1, 2], [3, 2, 1], [1, 3, 3]]\n",
      "Sorted array specific to column 2: [[3, 2, 1], [2, 1, 2], [1, 3, 3]]\n"
     ]
    }
   ],
   "source": [
    "array = [[1, 3, 3], [2, 1, 2], [3, 2, 1]]\n",
    "\n",
    "sorted_by_column_0 = sorted(array, key=lambda x: x[0])\n",
    "sorted_by_column_1 = sorted(array, key=lambda x: x[1])\n",
    "sorted_by_column_2 = sorted(array, key=lambda x: x[2])\n",
    "\n",
    "print(\"Sorted array specific to column 0:\", sorted_by_column_0)\n",
    "print(\"Sorted array specific to column 1:\", sorted_by_column_1)\n",
    "print(\"Sorted array specific to column 2:\", sorted_by_column_2)"
   ]
  },
  {
   "cell_type": "code",
   "execution_count": null,
   "id": "7a380c0f-e13c-42d9-b855-8402a49e7cfe",
   "metadata": {},
   "outputs": [],
   "source": [
    "#40- write a program to Sort Python Dictionaries by Key or Value\n",
    "#Input:\n",
    "#{'ravi': 10, 'rajnish': 9, 'sanjeev': 15, 'yash': 2, 'suraj': 32}\n",
    "#Output:\n",
    "#{'rajnish': 9, 'ravi': 10, 'sanjeev': 15, 'suraj': 32, 'yash': 2}"
   ]
  },
  {
   "cell_type": "code",
   "execution_count": 27,
   "id": "f69f3330-399c-4f85-a6b5-7b9368f3258c",
   "metadata": {},
   "outputs": [
    {
     "name": "stdout",
     "output_type": "stream",
     "text": [
      "Sorted by Key: {'rajnish': 9, 'ravi': 10, 'sanjeev': 15, 'suraj': 32, 'yash': 2}\n",
      "Sorted by Value: {'yash': 2, 'rajnish': 9, 'ravi': 10, 'sanjeev': 15, 'suraj': 32}\n"
     ]
    }
   ],
   "source": [
    "data = {'ravi': 10, 'rajnish': 9, 'sanjeev': 15, 'yash': 2, 'suraj': 32}\n",
    "\n",
    "sorted_by_key = dict(sorted(data.items()))\n",
    "print(\"Sorted by Key:\", sorted_by_key)\n",
    "\n",
    "sorted_by_value = dict(sorted(data.items(), key=lambda item: item[1]))\n",
    "print(\"Sorted by Value:\", sorted_by_value)"
   ]
  },
  {
   "cell_type": "code",
   "execution_count": null,
   "id": "31e15bf5-d7fe-4f57-b25e-e3f47ed72f9b",
   "metadata": {},
   "outputs": [],
   "source": [
    "#41-write python program to Remove keys with Values Greater than K \n",
    "#( Including mixed values ) nput : test_dict = {‘Gfg’ : 3, ‘is’ : 7, ‘best’ : 10, ‘for’ : 6, ‘geeks’ : ‘CS’},\n",
    "#K = 7 Output : {‘Gfg’ : 3, ‘for’ : 6, ‘geeks’ : ‘CS’}"
   ]
  },
  {
   "cell_type": "code",
   "execution_count": 29,
   "id": "4015c828-ffb9-4259-aa51-528a3a68ecdc",
   "metadata": {},
   "outputs": [
    {
     "name": "stdout",
     "output_type": "stream",
     "text": [
      "{'Gfg': 3, 'is': 7, 'for': 6, 'geeks': 'CS'}\n"
     ]
    }
   ],
   "source": [
    "test_dict = {'Gfg': 3, 'is': 7, 'best': 10, 'for': 6, 'geeks': 'CS'}\n",
    "K = 7\n",
    "res = {}\n",
    "\n",
    "for key, val in test_dict.items():\n",
    "    if isinstance(val, int) and val <= K:\n",
    "        res[key] = val\n",
    "    elif not isinstance(val, int):\n",
    "        res[key] = val\n",
    "\n",
    "print(res)"
   ]
  },
  {
   "cell_type": "code",
   "execution_count": null,
   "id": "a6ab633d-5f21-42a4-b754-9db51a8bbf7a",
   "metadata": {},
   "outputs": [],
   "source": [
    "#42-Write a Python program to concatenate the following dictionaries to create a new one\n",
    "#Sample Dictionary : dic1={1:10, 2:20} dic2={3:30, 4:40} dic3={5:50,6:60} Expected Result : {1: 10, 2: 20, 3: 30, 4: 40, 5: 50, 6: 60}"
   ]
  },
  {
   "cell_type": "code",
   "execution_count": 31,
   "id": "2cfc2224-f2fe-41f3-a0c8-a9f1df03c6b8",
   "metadata": {},
   "outputs": [
    {
     "name": "stdout",
     "output_type": "stream",
     "text": [
      "{1: 10, 2: 20, 3: 30, 4: 40, 5: 50, 6: 60}\n"
     ]
    }
   ],
   "source": [
    "dic1 = {1: 10, 2: 20}\n",
    "dic2 = {3: 30, 4: 40}\n",
    "dic3 = {5: 50, 6: 60}\n",
    "\n",
    "result = {**dic1, **dic2, **dic3}\n",
    "print(result)"
   ]
  },
  {
   "cell_type": "code",
   "execution_count": null,
   "id": "979e4573-e093-4f8c-b355-61865fa653f1",
   "metadata": {},
   "outputs": [],
   "source": [
    "#43-Write a Python program to iterate over dictionaries using for loops"
   ]
  },
  {
   "cell_type": "code",
   "execution_count": 33,
   "id": "a4d16590-4eb9-410f-a306-f9bd2252a864",
   "metadata": {},
   "outputs": [
    {
     "name": "stdout",
     "output_type": "stream",
     "text": [
      "name : Hoda\n",
      "age : 21\n",
      "city : Cairo\n"
     ]
    }
   ],
   "source": [
    "my_dict = {'name': 'Hoda', 'age': 21, 'city': 'Cairo'}\n",
    "\n",
    "for key, value in my_dict.items():\n",
    "    print(key, \":\", value)"
   ]
  },
  {
   "cell_type": "code",
   "execution_count": null,
   "id": "0b792b5f-4182-4c7d-958b-643f3658175e",
   "metadata": {},
   "outputs": [],
   "source": [
    "#44- Write a Python script to merge two Python dictionaries"
   ]
  },
  {
   "cell_type": "code",
   "execution_count": 35,
   "id": "6cf4ac75-ce61-41e7-9c22-5a8cb5273478",
   "metadata": {},
   "outputs": [
    {
     "name": "stdout",
     "output_type": "stream",
     "text": [
      "{'a': 100, 'b': 200, 'c': 300, 'd': 400}\n"
     ]
    }
   ],
   "source": [
    "dict1 = {'a': 100, 'b': 200}\n",
    "dict2 = {'c': 300, 'd': 400}\n",
    "\n",
    "merged_dict = {**dict1, **dict2}\n",
    "print(merged_dict)"
   ]
  },
  {
   "cell_type": "code",
   "execution_count": null,
   "id": "23acedba-8e9d-4950-b218-15eb4c569858",
   "metadata": {},
   "outputs": [],
   "source": [
    "#45-Write a Python program to get the maximum and minimum values of a dictionary values"
   ]
  },
  {
   "cell_type": "code",
   "execution_count": 37,
   "id": "fc0e299b-b584-4a6d-b11d-6bf939b04a16",
   "metadata": {},
   "outputs": [
    {
     "name": "stdout",
     "output_type": "stream",
     "text": [
      "Maximum value: 50\n",
      "Minimum value: 5\n"
     ]
    }
   ],
   "source": [
    "my_dict = {'a': 10, 'b': 25, 'c': 5, 'd': 50}\n",
    "\n",
    "max_val = max(my_dict.values())\n",
    "min_val = min(my_dict.values())\n",
    "\n",
    "print(\"Maximum value:\", max_val)\n",
    "print(\"Minimum value:\", min_val)"
   ]
  },
  {
   "cell_type": "code",
   "execution_count": null,
   "id": "5ebdc2f9-179a-40d8-af7a-57c2b696b2bf",
   "metadata": {},
   "outputs": [],
   "source": [
    "#46- Write a Python program to drop empty items from a given dictionary.\n",
    "#Original Dictionary: {'c1': 'Red', 'c2': 'Green', 'c3': None} \n",
    "#New Dictionary after dropping empty items: {'c1': 'Red', 'c2': 'Green'}"
   ]
  },
  {
   "cell_type": "code",
   "execution_count": 39,
   "id": "f09b4cdc-824f-4140-be2e-a6d4ea975c9a",
   "metadata": {},
   "outputs": [
    {
     "name": "stdout",
     "output_type": "stream",
     "text": [
      "{'c1': 'Red', 'c2': 'Green'}\n"
     ]
    }
   ],
   "source": [
    "original_dict = {'c1': 'Red', 'c2': 'Green', 'c3': None}\n",
    "new_dict = {}\n",
    "for key, value in original_dict.items():\n",
    "    if value is not None:\n",
    "        new_dict[key] = value\n",
    "print(new_dict)"
   ]
  },
  {
   "cell_type": "code",
   "execution_count": null,
   "id": "025ad622-6d8b-41c5-b2b5-06cc2759e3a7",
   "metadata": {},
   "outputs": [],
   "source": [
    "#47-Write a Python program to create a tuple of numbers and print one item"
   ]
  },
  {
   "cell_type": "code",
   "execution_count": 41,
   "id": "b1e5e38e-127b-4d6f-b508-7568cd9d432f",
   "metadata": {},
   "outputs": [
    {
     "name": "stdout",
     "output_type": "stream",
     "text": [
      "30\n"
     ]
    }
   ],
   "source": [
    "numbers = (10, 20, 30, 40, 50)\n",
    "print(numbers[2])"
   ]
  },
  {
   "cell_type": "code",
   "execution_count": null,
   "id": "d732001a-28f3-4960-84aa-765ced643c82",
   "metadata": {},
   "outputs": [],
   "source": [
    "#48-Write a Python program to unpack a tuple into several variables"
   ]
  },
  {
   "cell_type": "code",
   "execution_count": 43,
   "id": "dac57325-dbc7-4f2f-82bb-f93b094ca942",
   "metadata": {},
   "outputs": [
    {
     "name": "stdout",
     "output_type": "stream",
     "text": [
      "Hoda\n",
      "21\n",
      "Cairo\n"
     ]
    }
   ],
   "source": [
    "my_tuple = (\"Hoda\", 21, \"Cairo\")\n",
    "\n",
    "name, age, city = my_tuple\n",
    "\n",
    "print(name)\n",
    "print(age)\n",
    "print(city)"
   ]
  },
  {
   "cell_type": "code",
   "execution_count": null,
   "id": "b9f019a8-cd44-4079-a561-c7513d73e6d9",
   "metadata": {},
   "outputs": [],
   "source": [
    "#49-Write a Python program to add an item to a tuple"
   ]
  },
  {
   "cell_type": "code",
   "execution_count": 45,
   "id": "1be123f6-76d3-4048-8d79-dd0be4e825a3",
   "metadata": {},
   "outputs": [
    {
     "name": "stdout",
     "output_type": "stream",
     "text": [
      "(1, 2, 3, 4)\n"
     ]
    }
   ],
   "source": [
    "my_tuple = (1, 2, 3)\n",
    "temp_list = list(my_tuple)\n",
    "temp_list.append(4)\n",
    "my_tuple = tuple(temp_list)\n",
    "print(my_tuple)"
   ]
  },
  {
   "cell_type": "code",
   "execution_count": null,
   "id": "4a963bf0-d027-4631-8160-198ec610c260",
   "metadata": {},
   "outputs": [],
   "source": [
    "#50-Write a Python program to convert a tuple to a string"
   ]
  },
  {
   "cell_type": "code",
   "execution_count": 47,
   "id": "342a02f0-24b4-48a8-83fb-ded6ce7d51e5",
   "metadata": {},
   "outputs": [
    {
     "name": "stdout",
     "output_type": "stream",
     "text": [
      "Hello\n"
     ]
    }
   ],
   "source": [
    "my_tuple = ('H', 'e', 'l', 'l', 'o')\n",
    "my_string = ''.join(my_tuple)\n",
    "print(my_string)"
   ]
  },
  {
   "cell_type": "code",
   "execution_count": null,
   "id": "1acc79bd-1990-423f-9d3d-01cb8ebe4d7c",
   "metadata": {},
   "outputs": [],
   "source": [
    "#51-Write a Python program to convert a list to a tuple"
   ]
  },
  {
   "cell_type": "code",
   "execution_count": 49,
   "id": "e1045748-94f7-4cdd-a60e-5859063bd704",
   "metadata": {},
   "outputs": [
    {
     "name": "stdout",
     "output_type": "stream",
     "text": [
      "(1, 2, 3, 4, 5)\n"
     ]
    }
   ],
   "source": [
    "my_list = [1, 2, 3, 4, 5]\n",
    "my_tuple = tuple(my_list)\n",
    "print(my_tuple)"
   ]
  },
  {
   "cell_type": "code",
   "execution_count": null,
   "id": "bb696c9e-2a54-4b2d-a07b-353112eb4d13",
   "metadata": {},
   "outputs": [],
   "source": [
    "#52-Write a Python program to reverse a tuple"
   ]
  },
  {
   "cell_type": "code",
   "execution_count": 51,
   "id": "36e1c8e4-27b2-4eb2-be47-6682665e81ca",
   "metadata": {},
   "outputs": [
    {
     "name": "stdout",
     "output_type": "stream",
     "text": [
      "(5, 4, 3, 2, 1)\n"
     ]
    }
   ],
   "source": [
    "my_tuple = (1, 2, 3, 4, 5)\n",
    "reversed_tuple = my_tuple[::-1]\n",
    "print(reversed_tuple)"
   ]
  },
  {
   "cell_type": "code",
   "execution_count": null,
   "id": "d7dba43c-14e7-41ee-8521-09c188f34905",
   "metadata": {},
   "outputs": [],
   "source": [
    "#53-Write a Python program to replace the last value of tuples in a list. \n",
    "#Sample list: [(10, 20, 40), (40, 50, 60), (70, 80, 90)] Expected Output: [(10, 20, 100), (40, 50, 100), (70, 80, 100)]"
   ]
  },
  {
   "cell_type": "code",
   "execution_count": 53,
   "id": "8fd8c670-49b3-4543-a0a8-11f44b4df12f",
   "metadata": {},
   "outputs": [
    {
     "name": "stdout",
     "output_type": "stream",
     "text": [
      "[(10, 20, 100), (40, 50, 100), (70, 80, 100)]\n"
     ]
    }
   ],
   "source": [
    "sample_list = [(10, 20, 40), (40, 50, 60), (70, 80, 90)]\n",
    "updated_list = [(x[0], x[1], 100) for x in sample_list]\n",
    "print(updated_list)"
   ]
  },
  {
   "cell_type": "code",
   "execution_count": null,
   "id": "be40a11d-8fc6-4022-b38e-a3094e999ea1",
   "metadata": {},
   "outputs": [],
   "source": [
    "#54-Write a Python program to convert a given string list to a tuple Original string: \n",
    "#python 3.0 <class 'str'> Convert the said string to a tuple: ('p', 'y', 't', 'h', 'o', 'n', '3', '.', '0')"
   ]
  },
  {
   "cell_type": "code",
   "execution_count": 55,
   "id": "2d65318d-af01-498b-b49c-7b355e26328f",
   "metadata": {},
   "outputs": [
    {
     "name": "stdout",
     "output_type": "stream",
     "text": [
      "('p', 'y', 't', 'h', 'o', 'n', ' ', '3', '.', '0')\n"
     ]
    }
   ],
   "source": [
    "original_string = \"python 3.0\"\n",
    "string_tuple = tuple(original_string)\n",
    "print(string_tuple)"
   ]
  },
  {
   "cell_type": "code",
   "execution_count": null,
   "id": "93315efd-a254-4c4d-b44e-7a004df8a7bf",
   "metadata": {},
   "outputs": [],
   "source": [
    "#55-Write a Python program to calculate the average value of the numbers in a given tuple of tuples"
   ]
  },
  {
   "cell_type": "code",
   "execution_count": 57,
   "id": "ffd1d555-8e1c-47cb-a18d-4118590ffda5",
   "metadata": {},
   "outputs": [
    {
     "name": "stdout",
     "output_type": "stream",
     "text": [
      "50.0\n"
     ]
    }
   ],
   "source": [
    "tuple_of_tuples = ((10, 20, 30), (40, 50, 60), (70, 80, 90))\n",
    "\n",
    "total_sum = sum(sum(inner_tuple) for inner_tuple in tuple_of_tuples)\n",
    "total_count = sum(len(inner_tuple) for inner_tuple in tuple_of_tuples)\n",
    "\n",
    "average = total_sum / total_count\n",
    "print(average)"
   ]
  },
  {
   "cell_type": "code",
   "execution_count": null,
   "id": "7fc2b6f4-356d-4c50-84b7-ddd0b21599ba",
   "metadata": {},
   "outputs": [],
   "source": [
    "#56-Write a Python program to add member(s) to a set."
   ]
  },
  {
   "cell_type": "code",
   "execution_count": 59,
   "id": "1a54906e-316a-4f82-8b63-7e24cfb80e51",
   "metadata": {},
   "outputs": [
    {
     "name": "stdout",
     "output_type": "stream",
     "text": [
      "{1, 2, 3, 4, 5, 6, 7}\n"
     ]
    }
   ],
   "source": [
    "my_set = {1, 2, 3}\n",
    "my_set.add(4)\n",
    "my_set.update([5, 6, 7])\n",
    "print(my_set)"
   ]
  },
  {
   "cell_type": "code",
   "execution_count": null,
   "id": "436f9069-febf-4a65-a476-880af4386d6b",
   "metadata": {},
   "outputs": [],
   "source": [
    "#57-Write a Python program to remove an item from a set if it is present in the set."
   ]
  },
  {
   "cell_type": "code",
   "execution_count": 61,
   "id": "e9d47dec-e3ba-4d0a-b544-8e2454e51834",
   "metadata": {},
   "outputs": [
    {
     "name": "stdout",
     "output_type": "stream",
     "text": [
      "{1, 2, 4, 5}\n"
     ]
    }
   ],
   "source": [
    "my_set = {1, 2, 3, 4, 5}\n",
    "my_set.discard(3)\n",
    "print(my_set)"
   ]
  },
  {
   "cell_type": "code",
   "execution_count": null,
   "id": "cac55f2a-29ee-4f3e-8675-0e0a802dc91c",
   "metadata": {},
   "outputs": [],
   "source": [
    "#58-Write a Python program to create an intersection,union,difference and symmetric difference of sets"
   ]
  },
  {
   "cell_type": "code",
   "execution_count": 63,
   "id": "2754f814-7c9b-47a2-b936-5412b255386f",
   "metadata": {},
   "outputs": [
    {
     "name": "stdout",
     "output_type": "stream",
     "text": [
      "Intersection: {4, 5}\n",
      "Union: {1, 2, 3, 4, 5, 6, 7, 8}\n",
      "Difference: {1, 2, 3}\n",
      "Symmetric Difference: {1, 2, 3, 6, 7, 8}\n"
     ]
    }
   ],
   "source": [
    "set1 = {1, 2, 3, 4, 5}\n",
    "set2 = {4, 5, 6, 7, 8}\n",
    "\n",
    "intersection = set1 & set2\n",
    "union = set1 | set2\n",
    "difference = set1 - set2\n",
    "symmetric_difference = set1 ^ set2\n",
    "\n",
    "print(\"Intersection:\", intersection)\n",
    "print(\"Union:\", union)\n",
    "print(\"Difference:\", difference)\n",
    "print(\"Symmetric Difference:\", symmetric_difference)"
   ]
  },
  {
   "cell_type": "code",
   "execution_count": null,
   "id": "39e1ee2d-c137-4178-a3f3-6d6f76b3a9e3",
   "metadata": {},
   "outputs": [],
   "source": [
    "#59-Write a Python program to find the maximum and minimum values in a set"
   ]
  },
  {
   "cell_type": "code",
   "execution_count": 7,
   "id": "3a760312-6f0d-4732-b642-066e3a3bc39f",
   "metadata": {},
   "outputs": [
    {
     "name": "stdin",
     "output_type": "stream",
     "text": [
      "Enter the number of set:  5\n",
      "Enter your number 1:  1\n",
      "Enter your number 2:  2\n",
      "Enter your number 3:  3\n",
      "Enter your number 4:  4\n",
      "Enter your number 5:  5\n"
     ]
    },
    {
     "name": "stdout",
     "output_type": "stream",
     "text": [
      "Your set: {1, 2, 3, 4, 5}\n",
      "Max number: 5\n",
      "Min number: 1\n"
     ]
    }
   ],
   "source": [
    "set1 = set()\n",
    "Num_set = int(input(\"Enter the number of set: \"))\n",
    "for i in range(Num_set):\n",
    "    number = int(input(f\"Enter your number {i+1}: \"))\n",
    "    set1.add(number)\n",
    "print(\"Your set:\", set1)\n",
    "print(\"Max number:\", max(set1))\n",
    "print(\"Min number:\", min(set1))"
   ]
  },
  {
   "cell_type": "code",
   "execution_count": 9,
   "id": "88d82816-4023-45df-9fa1-ed2678283c9f",
   "metadata": {},
   "outputs": [],
   "source": [
    "#60- Write a Python program that finds all pairs of elements in a list whose sum is equal to a given value."
   ]
  },
  {
   "cell_type": "code",
   "execution_count": 7,
   "id": "cbdb49fc-a037-4441-81fa-ffeb6167f053",
   "metadata": {},
   "outputs": [
    {
     "name": "stdin",
     "output_type": "stream",
     "text": [
      "Enter the number of List:  5\n",
      "Enter your number 1:  1\n",
      "Enter your number 2:  2\n",
      "Enter your number 3:  3\n",
      "Enter your number 4:  4\n",
      "Enter your number 5:  5\n",
      "Enter the value:  4\n"
     ]
    },
    {
     "name": "stdout",
     "output_type": "stream",
     "text": [
      "1 3\n",
      "2 2\n",
      "3 1\n"
     ]
    }
   ],
   "source": [
    "list1 = []\n",
    "Num_list1 = int(input(\"Enter the number of List: \"))\n",
    "for i in range(Num_list1):\n",
    "    number = int(input(f\"Enter your number {i+1}: \"))\n",
    "    list1.append(number)\n",
    "value = int(input(\"Enter the value: \"))\n",
    "for i in range(Num_list1):\n",
    "    for j in range(Num_list1):\n",
    "        if list1[i] + list1[j] == value:\n",
    "            print(list1[i],list1[j])"
   ]
  },
  {
   "cell_type": "code",
   "execution_count": null,
   "id": "98a77f37-4358-4118-b079-19894786d3ae",
   "metadata": {},
   "outputs": [],
   "source": []
  }
 ],
 "metadata": {
  "kernelspec": {
   "display_name": "Python 3 (ipykernel)",
   "language": "python",
   "name": "python3"
  },
  "language_info": {
   "codemirror_mode": {
    "name": "ipython",
    "version": 3
   },
   "file_extension": ".py",
   "mimetype": "text/x-python",
   "name": "python",
   "nbconvert_exporter": "python",
   "pygments_lexer": "ipython3",
   "version": "3.12.7"
  }
 },
 "nbformat": 4,
 "nbformat_minor": 5
}
